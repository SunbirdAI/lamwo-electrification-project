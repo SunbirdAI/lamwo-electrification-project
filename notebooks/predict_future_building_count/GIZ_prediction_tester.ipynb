{
  "cells": [
    {
      "cell_type": "code",
      "execution_count": null,
      "metadata": {
        "colab": {
          "base_uri": "https://localhost:8080/",
          "height": 108
        },
        "id": "YlZWRKdKlXlN",
        "outputId": "5d593119-09ec-420a-c99b-ef16f387dc73"
      },
      "outputs": [
        {
          "output_type": "stream",
          "name": "stdout",
          "text": [
            "Populating the interactive namespace from numpy and matplotlib\n"
          ]
        },
        {
          "output_type": "stream",
          "name": "stderr",
          "text": [
            "/usr/local/lib/python3.11/dist-packages/IPython/core/magics/pylab.py:159: UserWarning: pylab import has clobbered these variables: ['random']\n",
            "`%matplotlib` prevents importing * from pylab and numpy\n",
            "  warn(\"pylab import has clobbered these variables: %s\"  % clobbered +\n"
          ]
        }
      ],
      "source": [
        "import ee\n",
        "import geemap\n",
        "import numpy\n",
        "import requests\n",
        "import io\n",
        "import numpy as np\n",
        "import geopandas as gpd\n",
        "import random\n",
        "from shapely.geometry import Point\n",
        "import pickle\n",
        "from PIL import Image\n",
        "import os\n",
        "import concurrent.futures\n",
        "from concurrent.futures import ThreadPoolExecutor, as_completed\n",
        "import math\n",
        "from torchvision import transforms\n",
        "import torch\n",
        "%pylab inline"
      ]
    },
    {
      "cell_type": "code",
      "execution_count": null,
      "metadata": {
        "colab": {
          "base_uri": "https://localhost:8080/",
          "height": 35
        },
        "collapsed": true,
        "id": "Fan96Lma7LJX",
        "outputId": "90cc1758-bb5b-4da2-b484-f60454428734"
      },
      "outputs": [
        {
          "output_type": "display_data",
          "data": {
            "text/plain": [
              "<IPython.core.display.HTML object>"
            ],
            "text/html": [
              "\n",
              "            <style>\n",
              "                .geemap-dark {\n",
              "                    --jp-widgets-color: white;\n",
              "                    --jp-widgets-label-color: white;\n",
              "                    --jp-ui-font-color1: white;\n",
              "                    --jp-layout-color2: #454545;\n",
              "                    background-color: #383838;\n",
              "                }\n",
              "\n",
              "                .geemap-dark .jupyter-button {\n",
              "                    --jp-layout-color3: #383838;\n",
              "                }\n",
              "\n",
              "                .geemap-colab {\n",
              "                    background-color: var(--colab-primary-surface-color, white);\n",
              "                }\n",
              "\n",
              "                .geemap-colab .jupyter-button {\n",
              "                    --jp-layout-color3: var(--colab-primary-surface-color, white);\n",
              "                }\n",
              "            </style>\n",
              "            "
            ]
          },
          "metadata": {}
        },
        {
          "output_type": "stream",
          "name": "stdout",
          "text": [
            "Mounted at /content/drive\n"
          ]
        }
      ],
      "source": [
        "# prompt: mount gdrive\n",
        "\n",
        "from google.colab import drive\n",
        "drive.mount('/content/drive')\n"
      ]
    },
    {
      "cell_type": "code",
      "execution_count": null,
      "metadata": {
        "colab": {
          "base_uri": "https://localhost:8080/",
          "height": 17
        },
        "id": "cdmW_jfRlkzU",
        "outputId": "e23732b0-00b1-4be7-cf57-40c403fbd4c5"
      },
      "outputs": [
        {
          "output_type": "display_data",
          "data": {
            "text/plain": [
              "<IPython.core.display.HTML object>"
            ],
            "text/html": [
              "\n",
              "            <style>\n",
              "                .geemap-dark {\n",
              "                    --jp-widgets-color: white;\n",
              "                    --jp-widgets-label-color: white;\n",
              "                    --jp-ui-font-color1: white;\n",
              "                    --jp-layout-color2: #454545;\n",
              "                    background-color: #383838;\n",
              "                }\n",
              "\n",
              "                .geemap-dark .jupyter-button {\n",
              "                    --jp-layout-color3: #383838;\n",
              "                }\n",
              "\n",
              "                .geemap-colab {\n",
              "                    background-color: var(--colab-primary-surface-color, white);\n",
              "                }\n",
              "\n",
              "                .geemap-colab .jupyter-button {\n",
              "                    --jp-layout-color3: var(--colab-primary-surface-color, white);\n",
              "                }\n",
              "            </style>\n",
              "            "
            ]
          },
          "metadata": {}
        }
      ],
      "source": [
        "ee.Authenticate()"
      ]
    },
    {
      "cell_type": "code",
      "execution_count": null,
      "metadata": {
        "colab": {
          "base_uri": "https://localhost:8080/",
          "height": 17
        },
        "id": "DnPJ-gZ5nboP",
        "outputId": "756863bf-7f4d-451d-a2a4-df17cd572b4e"
      },
      "outputs": [
        {
          "output_type": "display_data",
          "data": {
            "text/plain": [
              "<IPython.core.display.HTML object>"
            ],
            "text/html": [
              "\n",
              "            <style>\n",
              "                .geemap-dark {\n",
              "                    --jp-widgets-color: white;\n",
              "                    --jp-widgets-label-color: white;\n",
              "                    --jp-ui-font-color1: white;\n",
              "                    --jp-layout-color2: #454545;\n",
              "                    background-color: #383838;\n",
              "                }\n",
              "\n",
              "                .geemap-dark .jupyter-button {\n",
              "                    --jp-layout-color3: #383838;\n",
              "                }\n",
              "\n",
              "                .geemap-colab {\n",
              "                    background-color: var(--colab-primary-surface-color, white);\n",
              "                }\n",
              "\n",
              "                .geemap-colab .jupyter-button {\n",
              "                    --jp-layout-color3: var(--colab-primary-surface-color, white);\n",
              "                }\n",
              "            </style>\n",
              "            "
            ]
          },
          "metadata": {}
        }
      ],
      "source": [
        "ee.Initialize(project='ee-isekalala')"
      ]
    },
    {
      "cell_type": "code",
      "execution_count": null,
      "metadata": {
        "colab": {
          "base_uri": "https://localhost:8080/",
          "height": 17
        },
        "id": "rhSAAHUw-N--",
        "outputId": "b2c23708-8cd0-4f16-d76e-1a0bb6bc41ee"
      },
      "outputs": [
        {
          "output_type": "display_data",
          "data": {
            "text/plain": [
              "<IPython.core.display.HTML object>"
            ],
            "text/html": [
              "\n",
              "            <style>\n",
              "                .geemap-dark {\n",
              "                    --jp-widgets-color: white;\n",
              "                    --jp-widgets-label-color: white;\n",
              "                    --jp-ui-font-color1: white;\n",
              "                    --jp-layout-color2: #454545;\n",
              "                    background-color: #383838;\n",
              "                }\n",
              "\n",
              "                .geemap-dark .jupyter-button {\n",
              "                    --jp-layout-color3: #383838;\n",
              "                }\n",
              "\n",
              "                .geemap-colab {\n",
              "                    background-color: var(--colab-primary-surface-color, white);\n",
              "                }\n",
              "\n",
              "                .geemap-colab .jupyter-button {\n",
              "                    --jp-layout-color3: var(--colab-primary-surface-color, white);\n",
              "                }\n",
              "            </style>\n",
              "            "
            ]
          },
          "metadata": {}
        }
      ],
      "source": [
        "from google.colab import userdata\n",
        "os.environ[\"HF_TOKEN\"] = userdata.get('hf')"
      ]
    },
    {
      "cell_type": "code",
      "execution_count": null,
      "metadata": {
        "colab": {
          "base_uri": "https://localhost:8080/",
          "height": 248,
          "referenced_widgets": [
            "209d3ed471ca4102a5cb2ee7fbc0da20",
            "821a70439639421ab4c886f3af0333af",
            "823e90d796cb4fd4aabe686f5ebb0db3",
            "072a489d13c64be4859f4d5e27d2cd0f",
            "4c298a99247d4190928a5e705a5b79ee",
            "69a75eae53634763a79654f85fd9f3ce",
            "85e3c80c59084305a5348247f35a90ad",
            "eb47bf7b7fb1485aa0f6f04693a891f1",
            "c0234a7391154008bec6230d97480910",
            "d54ae3c88bf2425a9396d38f7d865c7a",
            "d06dfbe5a61346ed9efdbf9b2b0981f1"
          ]
        },
        "id": "-_R5WvDcWLUV",
        "outputId": "f309eaa1-1e7a-4d39-c74d-3e73c1e36ce1"
      },
      "outputs": [
        {
          "output_type": "display_data",
          "data": {
            "text/plain": [
              "<IPython.core.display.HTML object>"
            ],
            "text/html": [
              "\n",
              "            <style>\n",
              "                .geemap-dark {\n",
              "                    --jp-widgets-color: white;\n",
              "                    --jp-widgets-label-color: white;\n",
              "                    --jp-ui-font-color1: white;\n",
              "                    --jp-layout-color2: #454545;\n",
              "                    background-color: #383838;\n",
              "                }\n",
              "\n",
              "                .geemap-dark .jupyter-button {\n",
              "                    --jp-layout-color3: #383838;\n",
              "                }\n",
              "\n",
              "                .geemap-colab {\n",
              "                    background-color: var(--colab-primary-surface-color, white);\n",
              "                }\n",
              "\n",
              "                .geemap-colab .jupyter-button {\n",
              "                    --jp-layout-color3: var(--colab-primary-surface-color, white);\n",
              "                }\n",
              "            </style>\n",
              "            "
            ]
          },
          "metadata": {}
        },
        {
          "output_type": "stream",
          "name": "stderr",
          "text": [
            "/usr/local/lib/python3.11/dist-packages/huggingface_hub/utils/_auth.py:94: UserWarning: \n",
            "The secret `HF_TOKEN` does not exist in your Colab secrets.\n",
            "To authenticate with the Hugging Face Hub, create a token in your settings tab (https://huggingface.co/settings/tokens), set it as secret in your Google Colab and restart your session.\n",
            "You will be able to reuse this secret in all of your notebooks.\n",
            "Please note that authentication is recommended but still optional to access public models or datasets.\n",
            "  warnings.warn(\n"
          ]
        },
        {
          "output_type": "display_data",
          "data": {
            "text/plain": [
              "model.safetensors:   0%|          | 0.00/94.4M [00:00<?, ?B/s]"
            ],
            "application/vnd.jupyter.widget-view+json": {
              "version_major": 2,
              "version_minor": 0,
              "model_id": "209d3ed471ca4102a5cb2ee7fbc0da20"
            }
          },
          "metadata": {
            "application/vnd.jupyter.widget-view+json": {
              "colab": {
                "custom_widget_manager": {
                  "url": "https://ssl.gstatic.com/colaboratory-static/widgets/colab-cdn-widget-manager/2b70e893a8ba7c0f/manager.min.js"
                }
              }
            }
          }
        },
        {
          "output_type": "stream",
          "name": "stdout",
          "text": [
            "Downloaded model weights from: /root/.cache/huggingface/hub/models--Sunbird--GIZ-building-regression-model/snapshots/7df45b279e3816b773bee7de2013079db03eccbf/model.safetensors\n"
          ]
        },
        {
          "output_type": "stream",
          "name": "stderr",
          "text": [
            "Downloading: \"https://download.pytorch.org/models/resnet50-11ad3fa6.pth\" to /root/.cache/torch/hub/checkpoints/resnet50-11ad3fa6.pth\n",
            "100%|██████████| 97.8M/97.8M [00:01<00:00, 90.9MB/s]\n"
          ]
        },
        {
          "output_type": "stream",
          "name": "stdout",
          "text": [
            "Model output: tensor([[0.0333]])\n"
          ]
        }
      ],
      "source": [
        "import torch\n",
        "import torch.nn as nn\n",
        "from torchvision import models\n",
        "from huggingface_hub import hf_hub_download\n",
        "from safetensors.torch import load_file\n",
        "from torchvision.models import ResNet50_Weights\n",
        "\n",
        "# Define your custom model architecture (ensure this matches what you used during training)\n",
        "# Define model\n",
        "def get_modified_resnet50(num_channels=12):\n",
        "    model = models.resnet50(weights=ResNet50_Weights.DEFAULT)\n",
        "    # Modify the first convolution layer\n",
        "    original_conv = model.conv1\n",
        "    model.conv1 = nn.Conv2d(\n",
        "        num_channels,\n",
        "        original_conv.out_channels,\n",
        "        kernel_size=original_conv.kernel_size,\n",
        "        stride=original_conv.stride,\n",
        "        padding=original_conv.padding,\n",
        "        bias=original_conv.bias\n",
        "    )\n",
        "    # Initialize the new conv layer\n",
        "    nn.init.kaiming_normal_(model.conv1.weight, mode='fan_out', nonlinearity='relu')\n",
        "\n",
        "    # Modify the final fully connected layer for regression\n",
        "    num_features = model.fc.in_features\n",
        "    model.fc = nn.Linear(num_features, 1)  # Assuming single regression output\n",
        "\n",
        "    return model\n",
        "\n",
        "# Function to load the model from Hugging Face Hub\n",
        "def load_model_from_hf(repo_id: str, filename: str = \"model.safetensors\", device: str = \"cuda\"):\n",
        "    \"\"\"\n",
        "    Downloads the model weights from Hugging Face Hub and loads them into the architecture.\n",
        "\n",
        "    Args:\n",
        "        repo_id (str): The repository ID on the Hugging Face Hub (e.g., \"your-org/your-model-repo\").\n",
        "        filename (str): The name of the file containing the model weights. Defaults to \"pytorch_model.bin\".\n",
        "        device (str): The device to load the model onto ('cuda' or 'cpu').\n",
        "\n",
        "    Returns:\n",
        "        model: The model loaded with weights and set to evaluation mode.\n",
        "    \"\"\"\n",
        "    # Download the model weights file from the Hub\n",
        "    model_path = hf_hub_download(repo_id=repo_id, filename=filename)\n",
        "    print(f\"Downloaded model weights from: {model_path}\")\n",
        "\n",
        "    # Reconstruct the model architecture\n",
        "    model = get_modified_resnet50(num_channels=12)\n",
        "\n",
        "    # Load the state dict (weights)\n",
        "    state_dict = load_file(model_path, device=device)  # <-- Changed this line\n",
        "    model.load_state_dict(state_dict)\n",
        "\n",
        "    # Move the model to the desired device and set to evaluation mode\n",
        "    model.to(device)\n",
        "    model.eval()\n",
        "\n",
        "    return model\n",
        "\n",
        "# Example usage:\n",
        "if __name__ == \"__main__\":\n",
        "    # Replace with your repository ID (e.g., \"your-org/your-model-repo\")\n",
        "    repo_id = \"Sunbird/GIZ-building-regression-model\"\n",
        "\n",
        "    # Determine device\n",
        "    device = \"cuda\" if torch.cuda.is_available() else \"cpu\"\n",
        "\n",
        "    # Load the model from the Hugging Face Hub\n",
        "    model = load_model_from_hf(repo_id=repo_id, device=device)\n",
        "\n",
        "    # Create a dummy input tensor with the shape your model expects:\n",
        "    # For example: batch size 1, 12 channels, 224x224 image.\n",
        "    dummy_input = torch.randn(1, 12, 200, 200).to(device)\n",
        "\n",
        "    # Run the model on the dummy input\n",
        "    with torch.no_grad():\n",
        "        output = model(dummy_input)\n",
        "\n",
        "    print(\"Model output:\", output)"
      ]
    },
    {
      "cell_type": "code",
      "execution_count": null,
      "metadata": {
        "colab": {
          "base_uri": "https://localhost:8080/",
          "height": 17
        },
        "id": "9LLtylGpXfTq",
        "outputId": "fcc41346-24b6-4bf0-9fd4-d0bf815040a3"
      },
      "outputs": [
        {
          "output_type": "display_data",
          "data": {
            "text/plain": [
              "<IPython.core.display.HTML object>"
            ],
            "text/html": [
              "\n",
              "            <style>\n",
              "                .geemap-dark {\n",
              "                    --jp-widgets-color: white;\n",
              "                    --jp-widgets-label-color: white;\n",
              "                    --jp-ui-font-color1: white;\n",
              "                    --jp-layout-color2: #454545;\n",
              "                    background-color: #383838;\n",
              "                }\n",
              "\n",
              "                .geemap-dark .jupyter-button {\n",
              "                    --jp-layout-color3: #383838;\n",
              "                }\n",
              "\n",
              "                .geemap-colab {\n",
              "                    background-color: var(--colab-primary-surface-color, white);\n",
              "                }\n",
              "\n",
              "                .geemap-colab .jupyter-button {\n",
              "                    --jp-layout-color3: var(--colab-primary-surface-color, white);\n",
              "                }\n",
              "            </style>\n",
              "            "
            ]
          },
          "metadata": {}
        }
      ],
      "source": [
        "def ee_bytes_to_img(pixel_data, num_channels):\n",
        "  img = np.array([[float(x) for x in pixel] for pixel in pixel_data.ravel()])\n",
        "  img = img.reshape(pixel_data.shape[0], pixel_data.shape[1], num_channels)\n",
        "  return img\n",
        "\n",
        "def mask_s2_clouds(image):\n",
        "  \"\"\"Masks clouds in a Sentinel-2 image using the QA band.\n",
        "\n",
        "  Args:\n",
        "      image (ee.Image): A Sentinel-2 image.\n",
        "\n",
        "  Returns:\n",
        "      ee.Image: A cloud-masked Sentinel-2 image.\n",
        "  \"\"\"\n",
        "  qa = image.select('QA60')\n",
        "\n",
        "  # Bits 10 and 11 are clouds and cirrus, respectively.\n",
        "  cloud_bit_mask = 1 << 10\n",
        "  cirrus_bit_mask = 1 << 11\n",
        "\n",
        "  # Both flags should be set to zero, indicating clear conditions.\n",
        "  mask = (\n",
        "      qa.bitwiseAnd(cloud_bit_mask)\n",
        "      .eq(0)\n",
        "      .And(qa.bitwiseAnd(cirrus_bit_mask).eq(0))\n",
        "  )\n",
        "\n",
        "  return image.updateMask(mask).divide(10000)\n",
        "\n",
        "def get_sentinel_2_pixels(region, year, scale_m=10):\n",
        "  yr = str(year)\n",
        "  sentinel2 = ee.ImageCollection('COPERNICUS/S2_HARMONIZED') \\\n",
        "              .filterBounds(region) \\\n",
        "              .filterDate(yr + '-01-01', yr + '-12-31') \\\n",
        "              .filter(ee.Filter.lt('CLOUDY_PIXEL_PERCENTAGE', 20)) \\\n",
        "              .map(mask_s2_clouds) \\\n",
        "              .median()\n",
        "\n",
        "  url = sentinel2.getDownloadUrl({\n",
        "    'bands': ['B4', 'B3', 'B2'], #red, green, blue bands respectively\n",
        "    'region': region,\n",
        "    'scale': scale_m,\n",
        "    'format': 'NPY'})\n",
        "  response = requests.get(url)\n",
        "  data = numpy.load(io.BytesIO(response.content), allow_pickle=True)\n",
        "  img = ee_bytes_to_img(data, 3)\n",
        "  return np.clip(img, 0, 1)"
      ]
    },
    {
      "cell_type": "code",
      "source": [
        "def get_composite_data(region, year, scale_m=1):\n",
        "    # Sentinel-2 composite (e.g., for year-1)\n",
        "    s2 = ee.ImageCollection('COPERNICUS/S2_HARMONIZED') \\\n",
        "          .filterBounds(region) \\\n",
        "          .filterDate(f'{year-1}-01-01', f'{year-1}-12-31') \\\n",
        "          .filter(ee.Filter.lt('CLOUDY_PIXEL_PERCENTAGE', 20)) \\\n",
        "          .map(mask_s2_clouds) \\\n",
        "          .median() \\\n",
        "          .select(['B4', 'B3', 'B2']).unitScale(0, 1)  # 3 bands\n",
        "\n",
        "    # We want to predict for 2025, OB goes up until 2023, so we take the Open Buildings composites for three previous years -1\n",
        "    ob_y2 = ee.ImageCollection('GOOGLE/Research/open-buildings-temporal/v1') \\\n",
        "             .filterBounds(region).filterDate(f'{year-2}-01-01', f'{year-1}-12-31').mosaic()\n",
        "    ob_y3 = ee.ImageCollection('GOOGLE/Research/open-buildings-temporal/v1') \\\n",
        "             .filterBounds(region).filterDate(f'{year-3}-01-01', f'{year-2}-12-31').mosaic()\n",
        "    ob_y4 = ee.ImageCollection('GOOGLE/Research/open-buildings-temporal/v1') \\\n",
        "             .filterBounds(region).filterDate(f'{year-4}-01-01', f'{year-3}-12-31').mosaic()\n",
        "\n",
        "    # Compute building count differences directly on server side.\n",
        "    # Note: Adjust the reducer and multiplication factor as needed.\n",
        "    count_y2 = ob_y2.reduceRegion(ee.Reducer.sum(), region, scale_m, crs= region.projection(), maxPixels=824814450) \\\n",
        "              .getNumber('building_fractional_count').multiply(ee.Number(scale_m * 2).pow(2))\n",
        "    count_y3 = ob_y3.reduceRegion(ee.Reducer.sum(), region, scale_m, crs= region.projection(), maxPixels=824814450) \\\n",
        "              .getNumber('building_fractional_count').multiply(ee.Number(scale_m * 2).pow(2))\n",
        "    count_y4 = ob_y4.reduceRegion(ee.Reducer.sum(), region, scale_m, crs= region.projection(), maxPixels=824814450) \\\n",
        "              .getNumber('building_fractional_count').multiply(ee.Number(scale_m * 2).pow(2))\n",
        "    diff1 = count_y2.subtract(count_y3)\n",
        "    diff1_img = ee.Image.constant(diff1).rename('diff1')\n",
        "    diff2 = count_y3.subtract(count_y4)\n",
        "    diff2_img = ee.Image.constant(diff2).rename('diff2')\n",
        "\n",
        "    # Dynamic World composite\n",
        "    dw = ee.ImageCollection('GOOGLE/DYNAMICWORLD/V1') \\\n",
        "         .filterBounds(region).filterDate(f'{year-1}-01-01', f'{year-1}-12-31') \\\n",
        "         .median() \\\n",
        "         .select(['built', 'crops', 'water', 'trees', 'grass'])  # 5 bands\n",
        "\n",
        "    # target\n",
        "    \"\"\"imageCollection = ee.ImageCollection('GOOGLE/Research/open-buildings-temporal/v1').filterBounds(region)\n",
        "    count_y0 = imageCollection.filterDate(f'{year}-01-01', f'{year}-12-31').mosaic() \\\n",
        "                .reduceRegion(ee.Reducer.sum(), region, scale_m, crs= region.projection()) \\\n",
        "                .getNumber('building_fractional_count').multiply(ee.Number(scale_m * 2).pow(2))\n",
        "    count_y1 = imageCollection.filterDate(f'{year-1}-01-01', f'{year-1}-12-3').mosaic() \\\n",
        "                .reduceRegion(ee.Reducer.sum(), region, scale_m, crs= region.projection()) \\\n",
        "                .getNumber('building_fractional_count').multiply(ee.Number(scale_m * 2).pow(2))\n",
        "    diff = count_y0.subtract(count_y1)\n",
        "    target_img = ee.Image.constant(diff).rename('target')\"\"\"\n",
        "\n",
        "\n",
        "    # Combine all into a single multi-band image\n",
        "    composite = s2.addBands(ob_y2.select(['building_presence']).clamp(0, 1)) \\\n",
        "                  .addBands(ob_y3.select(['building_presence']).clamp(0, 1)) \\\n",
        "                  .addBands(diff1_img) \\\n",
        "                  .addBands(diff2_img) \\\n",
        "                  .addBands(dw) \\\n",
        "                  #.addBands(target_img)\n",
        "\n",
        "    return composite"
      ],
      "metadata": {
        "colab": {
          "base_uri": "https://localhost:8080/",
          "height": 17
        },
        "id": "yfSGy_T4DE7H",
        "outputId": "63b2e9d1-e2a7-4e04-c71d-2bbd9d9ef082"
      },
      "execution_count": null,
      "outputs": [
        {
          "output_type": "display_data",
          "data": {
            "text/plain": [
              "<IPython.core.display.HTML object>"
            ],
            "text/html": [
              "\n",
              "            <style>\n",
              "                .geemap-dark {\n",
              "                    --jp-widgets-color: white;\n",
              "                    --jp-widgets-label-color: white;\n",
              "                    --jp-ui-font-color1: white;\n",
              "                    --jp-layout-color2: #454545;\n",
              "                    background-color: #383838;\n",
              "                }\n",
              "\n",
              "                .geemap-dark .jupyter-button {\n",
              "                    --jp-layout-color3: #383838;\n",
              "                }\n",
              "\n",
              "                .geemap-colab {\n",
              "                    background-color: var(--colab-primary-surface-color, white);\n",
              "                }\n",
              "\n",
              "                .geemap-colab .jupyter-button {\n",
              "                    --jp-layout-color3: var(--colab-primary-surface-color, white);\n",
              "                }\n",
              "            </style>\n",
              "            "
            ]
          },
          "metadata": {}
        }
      ]
    },
    {
      "cell_type": "code",
      "source": [
        "def get_reg_target(region, year, scale_m):\n",
        "  imageCollection = ee.ImageCollection('GOOGLE/Research/open-buildings-temporal/v1').filterBounds(region)\n",
        "  count_y0 = imageCollection.filterDate(f'{year}-01-01', f'{year}-12-31').mosaic() \\\n",
        "              .reduceRegion(ee.Reducer.sum(), region, scale_m, crs= region.projection(), maxPixels=824814450) \\\n",
        "              .getNumber('building_fractional_count').multiply(ee.Number(scale_m * 2).pow(2))\n",
        "  count_y1 = imageCollection.filterDate(f'{year-1}-01-01', f'{year-1}-12-3').mosaic() \\\n",
        "              .reduceRegion(ee.Reducer.sum(), region, scale_m, crs= region.projection(), maxPixels=824814450) \\\n",
        "              .getNumber('building_fractional_count').multiply(ee.Number(scale_m * 2).pow(2))\n",
        "  diff = count_y0.subtract(count_y1)\n",
        "  return diff.getInfo()"
      ],
      "metadata": {
        "id": "t034iSS6D1r4",
        "colab": {
          "base_uri": "https://localhost:8080/",
          "height": 17
        },
        "outputId": "a65245c3-2406-4ec2-b46c-115e7c178bad"
      },
      "execution_count": null,
      "outputs": [
        {
          "output_type": "display_data",
          "data": {
            "text/plain": [
              "<IPython.core.display.HTML object>"
            ],
            "text/html": [
              "\n",
              "            <style>\n",
              "                .geemap-dark {\n",
              "                    --jp-widgets-color: white;\n",
              "                    --jp-widgets-label-color: white;\n",
              "                    --jp-ui-font-color1: white;\n",
              "                    --jp-layout-color2: #454545;\n",
              "                    background-color: #383838;\n",
              "                }\n",
              "\n",
              "                .geemap-dark .jupyter-button {\n",
              "                    --jp-layout-color3: #383838;\n",
              "                }\n",
              "\n",
              "                .geemap-colab {\n",
              "                    background-color: var(--colab-primary-surface-color, white);\n",
              "                }\n",
              "\n",
              "                .geemap-colab .jupyter-button {\n",
              "                    --jp-layout-color3: var(--colab-primary-surface-color, white);\n",
              "                }\n",
              "            </style>\n",
              "            "
            ]
          },
          "metadata": {}
        }
      ]
    },
    {
      "cell_type": "code",
      "execution_count": null,
      "metadata": {
        "colab": {
          "base_uri": "https://localhost:8080/",
          "height": 53
        },
        "id": "wkQ5SW9bLwOO",
        "outputId": "1d8fea53-6f75-402c-c7d3-4cf72d8f6080"
      },
      "outputs": [
        {
          "output_type": "display_data",
          "data": {
            "text/plain": [
              "<IPython.core.display.HTML object>"
            ],
            "text/html": [
              "\n",
              "            <style>\n",
              "                .geemap-dark {\n",
              "                    --jp-widgets-color: white;\n",
              "                    --jp-widgets-label-color: white;\n",
              "                    --jp-ui-font-color1: white;\n",
              "                    --jp-layout-color2: #454545;\n",
              "                    background-color: #383838;\n",
              "                }\n",
              "\n",
              "                .geemap-dark .jupyter-button {\n",
              "                    --jp-layout-color3: #383838;\n",
              "                }\n",
              "\n",
              "                .geemap-colab {\n",
              "                    background-color: var(--colab-primary-surface-color, white);\n",
              "                }\n",
              "\n",
              "                .geemap-colab .jupyter-button {\n",
              "                    --jp-layout-color3: var(--colab-primary-surface-color, white);\n",
              "                }\n",
              "            </style>\n",
              "            "
            ]
          },
          "metadata": {}
        },
        {
          "output_type": "stream",
          "name": "stdout",
          "text": [
            "Sampled Points:\n",
            "(33.023601296037896, 3.8115593347010615)\n"
          ]
        }
      ],
      "source": [
        "from shapely.geometry import Polygon, Point\n",
        "import numpy as np\n",
        "from functools import partial\n",
        "import pyproj\n",
        "from shapely.ops import transform\n",
        "\n",
        "def sample_points_in_polygon_shapely(polygon, spacing=200):\n",
        "    \"\"\"\n",
        "    Samples a uniform grid of points inside the input shapely polygon,\n",
        "    spaced `spacing` meters apart. The polygon is assumed to be in EPSG:4326.\n",
        "\n",
        "    Args:\n",
        "        polygon (shapely.geometry.Polygon): Input polygon in geographic coordinates (EPSG:4326).\n",
        "        spacing (float): The spacing between points in meters (default: 200).\n",
        "\n",
        "    Returns:\n",
        "        list: A list of (lon, lat) tuples representing the coordinates of points inside the polygon.\n",
        "    \"\"\"\n",
        "    # Define the source CRS (WGS84)\n",
        "    crs_wgs84 = pyproj.CRS(\"EPSG:4326\")\n",
        "\n",
        "    # Determine an appropriate UTM zone based on the polygon centroid\n",
        "    centroid = polygon.centroid\n",
        "    utm_zone = int((centroid.x + 180) / 6) + 1\n",
        "    # Use a UTM CRS; note: adjust \"+south\" if in the southern hemisphere\n",
        "    utm_crs = pyproj.CRS(f\"+proj=utm +zone={utm_zone} +datum=WGS84 +units=m +no_defs\")\n",
        "\n",
        "    # Define transformation functions\n",
        "    project_to_utm = partial(pyproj.Transformer.from_crs(crs_wgs84, utm_crs, always_xy=True).transform)\n",
        "    project_to_wgs84 = partial(pyproj.Transformer.from_crs(utm_crs, crs_wgs84, always_xy=True).transform)\n",
        "\n",
        "    # Project the polygon to UTM (meters)\n",
        "    polygon_utm = transform(project_to_utm, polygon)\n",
        "\n",
        "    # Get the bounding box of the projected polygon\n",
        "    minx, miny, maxx, maxy = polygon_utm.bounds\n",
        "    points = []\n",
        "\n",
        "    # Create a grid of candidate points spaced by the specified distance (in meters)\n",
        "    x_coords = np.arange(minx, maxx + spacing, spacing)\n",
        "    y_coords = np.arange(miny, maxy + spacing, spacing)\n",
        "\n",
        "    for x in x_coords:\n",
        "        for y in y_coords:\n",
        "            p = Point(x, y)\n",
        "            if polygon_utm.contains(p):\n",
        "                # Transform the point back to geographic coordinates (lon, lat)\n",
        "                p_wgs84 = transform(project_to_wgs84, p)\n",
        "                points.append((p_wgs84.x, p_wgs84.y))\n",
        "\n",
        "    return points\n",
        "\n",
        "# Example usage:\n",
        "if __name__ == \"__main__\":\n",
        "    # Example polygon in EPSG:4326 (replace with your actual polygon geometry)\n",
        "    sample_polygon = Polygon([\n",
        "        (33.0218, 3.80975),\n",
        "        (33.02515, 3.80975),\n",
        "        (33.02515, 3.812),\n",
        "        (33.0218, 3.812),\n",
        "        (33.0218, 3.80975)\n",
        "    ])\n",
        "\n",
        "    sampled_points = sample_points_in_polygon_shapely(sample_polygon, spacing=200)\n",
        "    print(\"Sampled Points:\")\n",
        "    for pt in sampled_points:\n",
        "        print(pt)"
      ]
    },
    {
      "cell_type": "code",
      "execution_count": null,
      "metadata": {
        "colab": {
          "base_uri": "https://localhost:8080/",
          "height": 17
        },
        "id": "gkgLEsVjdxog",
        "outputId": "945837d0-6385-42ad-806e-39a311d96bfe"
      },
      "outputs": [
        {
          "output_type": "display_data",
          "data": {
            "text/plain": [
              "<IPython.core.display.HTML object>"
            ],
            "text/html": [
              "\n",
              "            <style>\n",
              "                .geemap-dark {\n",
              "                    --jp-widgets-color: white;\n",
              "                    --jp-widgets-label-color: white;\n",
              "                    --jp-ui-font-color1: white;\n",
              "                    --jp-layout-color2: #454545;\n",
              "                    background-color: #383838;\n",
              "                }\n",
              "\n",
              "                .geemap-dark .jupyter-button {\n",
              "                    --jp-layout-color3: #383838;\n",
              "                }\n",
              "\n",
              "                .geemap-colab {\n",
              "                    background-color: var(--colab-primary-surface-color, white);\n",
              "                }\n",
              "\n",
              "                .geemap-colab .jupyter-button {\n",
              "                    --jp-layout-color3: var(--colab-primary-surface-color, white);\n",
              "                }\n",
              "            </style>\n",
              "            "
            ]
          },
          "metadata": {}
        }
      ],
      "source": [
        "def get_open_buildings_pixels(region, year, scale_m=10):\n",
        "  yr = str(year)\n",
        "  buildings = ee.ImageCollection('GOOGLE/Research/open-buildings-temporal/v1') \\\n",
        "              .filterBounds(region) \\\n",
        "              .filterDate(yr + '-01-01', yr + '-12-31') \\\n",
        "              .first()\n",
        "  url = buildings.getDownloadUrl({\n",
        "    'bands': ['building_presence'],\n",
        "    'region': region,\n",
        "    'scale': scale_m,\n",
        "    'format': 'NPY'\n",
        "  })\n",
        "  response = requests.get(url)\n",
        "  data = numpy.load(io.BytesIO(response.content), allow_pickle=True)\n",
        "  img = ee_bytes_to_img(data, 1)\n",
        "  return np.clip(img, 0, 1)"
      ]
    },
    {
      "cell_type": "code",
      "execution_count": null,
      "metadata": {
        "colab": {
          "base_uri": "https://localhost:8080/",
          "height": 17
        },
        "id": "iPX0XCFrZ6Xe",
        "outputId": "d7ef306e-4aa9-4726-9da4-fe7966bc2765"
      },
      "outputs": [
        {
          "output_type": "display_data",
          "data": {
            "text/plain": [
              "<IPython.core.display.HTML object>"
            ],
            "text/html": [
              "\n",
              "            <style>\n",
              "                .geemap-dark {\n",
              "                    --jp-widgets-color: white;\n",
              "                    --jp-widgets-label-color: white;\n",
              "                    --jp-ui-font-color1: white;\n",
              "                    --jp-layout-color2: #454545;\n",
              "                    background-color: #383838;\n",
              "                }\n",
              "\n",
              "                .geemap-dark .jupyter-button {\n",
              "                    --jp-layout-color3: #383838;\n",
              "                }\n",
              "\n",
              "                .geemap-colab {\n",
              "                    background-color: var(--colab-primary-surface-color, white);\n",
              "                }\n",
              "\n",
              "                .geemap-colab .jupyter-button {\n",
              "                    --jp-layout-color3: var(--colab-primary-surface-color, white);\n",
              "                }\n",
              "            </style>\n",
              "            "
            ]
          },
          "metadata": {}
        }
      ],
      "source": [
        "def get_open_buildings_counts(region, year, scale_m=1):\n",
        "  imageCollection = ee.ImageCollection('GOOGLE/Research/open-buildings-temporal/v1')\n",
        "  yr = str(year)\n",
        "  mosaic = imageCollection.filterBounds(region).filterDate(yr + '-01-01', yr + '-12-31').mosaic()\n",
        "\n",
        "  #epoch_s = ee.Date(ee.String(yr + '-06-30'), 'America/Los_Angeles').millis().divide(1000)\n",
        "  #mosaic = imageCollection.filter(ee.Filter.eq('inference_time_epoch_s', epoch_s)).mosaic()\n",
        "  count = mosaic.reduceRegion(ee.Reducer.sum(), region, scale_m, crs=region.projection(), maxPixels=824814450) \\\n",
        "          .getNumber('building_fractional_count') \\\n",
        "          .multiply(ee.Number(scale_m * 2).pow(2))\n",
        "          # Since the pyramiding policy is mean, we need to multiply by\n",
        "          # (scale_m * 2) ** 2 to recover sum at original 50cm resolution.\n",
        "  return count.getInfo()"
      ]
    },
    {
      "cell_type": "code",
      "execution_count": null,
      "metadata": {
        "colab": {
          "base_uri": "https://localhost:8080/",
          "height": 17
        },
        "id": "f72AQt8r0XAK",
        "outputId": "e2264121-3690-470b-8d7e-825a6354d61b"
      },
      "outputs": [
        {
          "output_type": "display_data",
          "data": {
            "text/plain": [
              "<IPython.core.display.HTML object>"
            ],
            "text/html": [
              "\n",
              "            <style>\n",
              "                .geemap-dark {\n",
              "                    --jp-widgets-color: white;\n",
              "                    --jp-widgets-label-color: white;\n",
              "                    --jp-ui-font-color1: white;\n",
              "                    --jp-layout-color2: #454545;\n",
              "                    background-color: #383838;\n",
              "                }\n",
              "\n",
              "                .geemap-dark .jupyter-button {\n",
              "                    --jp-layout-color3: #383838;\n",
              "                }\n",
              "\n",
              "                .geemap-colab {\n",
              "                    background-color: var(--colab-primary-surface-color, white);\n",
              "                }\n",
              "\n",
              "                .geemap-colab .jupyter-button {\n",
              "                    --jp-layout-color3: var(--colab-primary-surface-color, white);\n",
              "                }\n",
              "            </style>\n",
              "            "
            ]
          },
          "metadata": {}
        }
      ],
      "source": [
        "def get_dw_pixels(region, year, scale_m=10):\n",
        "  yr = str(year)\n",
        "  buildings = ee.ImageCollection('GOOGLE/DYNAMICWORLD/V1') \\\n",
        "              .filterBounds(region) \\\n",
        "              .filterDate(yr + '-01-01', yr + '-12-31') \\\n",
        "              .median()\n",
        "  url = buildings.getDownloadUrl({\n",
        "    'bands': ['built', 'crops', 'water', 'trees', 'grass'],\n",
        "    'region': region,\n",
        "    'scale': scale_m,\n",
        "    'format': 'NPY'\n",
        "  })\n",
        "  response = requests.get(url)\n",
        "  data = numpy.load(io.BytesIO(response.content), allow_pickle=True)\n",
        "  return ee_bytes_to_img(data, 5)"
      ]
    },
    {
      "cell_type": "code",
      "execution_count": null,
      "metadata": {
        "colab": {
          "base_uri": "https://localhost:8080/",
          "height": 17
        },
        "id": "p5-F6E_5SbFX",
        "outputId": "dcecbde4-be41-4ca6-c4dd-ada26c2e816d"
      },
      "outputs": [
        {
          "output_type": "display_data",
          "data": {
            "text/plain": [
              "<IPython.core.display.HTML object>"
            ],
            "text/html": [
              "\n",
              "            <style>\n",
              "                .geemap-dark {\n",
              "                    --jp-widgets-color: white;\n",
              "                    --jp-widgets-label-color: white;\n",
              "                    --jp-ui-font-color1: white;\n",
              "                    --jp-layout-color2: #454545;\n",
              "                    background-color: #383838;\n",
              "                }\n",
              "\n",
              "                .geemap-dark .jupyter-button {\n",
              "                    --jp-layout-color3: #383838;\n",
              "                }\n",
              "\n",
              "                .geemap-colab {\n",
              "                    background-color: var(--colab-primary-surface-color, white);\n",
              "                }\n",
              "\n",
              "                .geemap-colab .jupyter-button {\n",
              "                    --jp-layout-color3: var(--colab-primary-surface-color, white);\n",
              "                }\n",
              "            </style>\n",
              "            "
            ]
          },
          "metadata": {}
        }
      ],
      "source": [
        "villages_dir = '/content/drive/Shareddrives/Sunbird AI/Projects/GIZ Mini-grid Identification/Phase II/Data/administrative areas/Lamwo_villages_2020.gpkg'"
      ]
    },
    {
      "cell_type": "code",
      "execution_count": null,
      "metadata": {
        "colab": {
          "base_uri": "https://localhost:8080/",
          "height": 17
        },
        "id": "7aL8BhgCSeH9",
        "outputId": "2629f609-25e3-4190-a695-8124099d5e03"
      },
      "outputs": [
        {
          "output_type": "display_data",
          "data": {
            "text/plain": [
              "<IPython.core.display.HTML object>"
            ],
            "text/html": [
              "\n",
              "            <style>\n",
              "                .geemap-dark {\n",
              "                    --jp-widgets-color: white;\n",
              "                    --jp-widgets-label-color: white;\n",
              "                    --jp-ui-font-color1: white;\n",
              "                    --jp-layout-color2: #454545;\n",
              "                    background-color: #383838;\n",
              "                }\n",
              "\n",
              "                .geemap-dark .jupyter-button {\n",
              "                    --jp-layout-color3: #383838;\n",
              "                }\n",
              "\n",
              "                .geemap-colab {\n",
              "                    background-color: var(--colab-primary-surface-color, white);\n",
              "                }\n",
              "\n",
              "                .geemap-colab .jupyter-button {\n",
              "                    --jp-layout-color3: var(--colab-primary-surface-color, white);\n",
              "                }\n",
              "            </style>\n",
              "            "
            ]
          },
          "metadata": {}
        }
      ],
      "source": [
        "village_gdf = gpd.read_file(villages_dir)"
      ]
    },
    {
      "cell_type": "code",
      "execution_count": null,
      "metadata": {
        "colab": {
          "base_uri": "https://localhost:8080/",
          "height": 121
        },
        "id": "DRciK4lySjIQ",
        "outputId": "be2b0219-e9bf-4b68-b233-7199de9c98d9"
      },
      "outputs": [
        {
          "output_type": "display_data",
          "data": {
            "text/plain": [
              "<IPython.core.display.HTML object>"
            ],
            "text/html": [
              "\n",
              "            <style>\n",
              "                .geemap-dark {\n",
              "                    --jp-widgets-color: white;\n",
              "                    --jp-widgets-label-color: white;\n",
              "                    --jp-ui-font-color1: white;\n",
              "                    --jp-layout-color2: #454545;\n",
              "                    background-color: #383838;\n",
              "                }\n",
              "\n",
              "                .geemap-dark .jupyter-button {\n",
              "                    --jp-layout-color3: #383838;\n",
              "                }\n",
              "\n",
              "                .geemap-colab {\n",
              "                    background-color: var(--colab-primary-surface-color, white);\n",
              "                }\n",
              "\n",
              "                .geemap-colab .jupyter-button {\n",
              "                    --jp-layout-color3: var(--colab-primary-surface-color, white);\n",
              "                }\n",
              "            </style>\n",
              "            "
            ]
          },
          "metadata": {}
        },
        {
          "output_type": "execute_result",
          "data": {
            "text/plain": [
              "<MULTIPOLYGON (((32.373 3.301, 32.373 3.301, 32.374 3.302, 32.374 3.303, 32....>"
            ],
            "image/svg+xml": "<svg xmlns=\"http://www.w3.org/2000/svg\" xmlns:xlink=\"http://www.w3.org/1999/xlink\" width=\"100.0\" height=\"100.0\" viewBox=\"32.36779669973762 3.2424949722083016 0.1086375164639648 0.13200212268034717\" preserveAspectRatio=\"xMinYMin meet\"><g transform=\"matrix(1,0,0,-1,0,6.61699206709695)\"><g><path fill-rule=\"evenodd\" fill=\"#66cc99\" stroke=\"#555555\" stroke-width=\"0.0026400424536069432\" opacity=\"0.6\" d=\"M 32.373017458322366,3.301191169096079 L 32.37346043648354,3.30133988624429 L 32.373792368911936,3.3019338404164937 L 32.37353349110271,3.302601638109599 L 32.37371775490281,3.303158390801562 L 32.37393910528476,3.303455402995268 L 32.374160688422585,3.3033813246534676 L 32.37445586099788,3.3037154933010666 L 32.37445553542809,3.3042350184112164 L 32.374602901387654,3.3047546379214343 L 32.37452889233544,3.3050143541800927 L 32.37456567636128,3.305237031692177 L 32.374824112836485,3.305274304171885 L 32.37515655739542,3.305051861169792 L 32.37559963054342,3.3050521413150475 L 32.37593182051283,3.305237895701717 L 32.37641167735871,3.305460853036858 L 32.37685438084116,3.3060548766651023 L 32.37700174820771,3.306574496088356 L 32.377444636882885,3.306871647567832 L 32.37821997152417,3.30694635395777 L 32.379697026713565,3.306724629513986 L 32.38043527668149,3.307059074266332 L 32.3812842744476,3.307430696906039 L 32.38228126226314,3.3073199944443026 L 32.3836472965883,3.307506393896824 L 32.38361048844524,3.3073208252677575 L 32.383943001137666,3.3069870513600104 L 32.38508701817066,3.307952600168007 L 32.385640519912094,3.308509581078457 L 32.38678504182866,3.3086587297037857 L 32.38767162730113,3.3079542069758543 L 32.38829925070812,3.308065923983698 L 32.38866804812635,3.3087712249622747 L 32.38925840732667,3.3094395549915245 L 32.3893320485543,3.3097735823591803 L 32.389368426568076,3.310664223263741 L 32.38944093021738,3.312853705548958 L 32.38936631001952,3.3141153692992886 L 32.38933299665693,3.3143818855967915 L 32.38914367672244,3.315896468725223 L 32.38892111048484,3.3175662400956143 L 32.38792331092445,3.3189757654668828 L 32.38747977300669,3.319717671459503 L 32.389546413412084,3.3214630838145314 L 32.392609568147634,3.32391418335003 L 32.39463934865415,3.3255853472946706 L 32.39548796037477,3.3266249262503593 L 32.39585645208093,3.3278497552769224 L 32.396741764526716,3.329260447434539 L 32.396446147648525,3.3296313566736866 L 32.39603989413909,3.329779543531043 L 32.395338341145845,3.329779111186213 L 32.3948582626689,3.32989014207031 L 32.3945629852315,3.3297044147587163 L 32.39411978511049,3.329889686051136 L 32.39345529237548,3.3296666203350056 L 32.39253205910945,3.329888703727148 L 32.39098068765538,3.330815469610505 L 32.390167790981415,3.331742691388113 L 32.389059248445015,3.3330779283428766 L 32.38776573980526,3.3349696840097116 L 32.38573404316495,3.336378555808661 L 32.3861029606519,3.3368983143313797 L 32.3862014103462,3.33692311568994 L 32.3865459807283,3.3370099199194283 L 32.38724744656511,3.337158795258286 L 32.387025487537684,3.3378266200579416 L 32.38794824517713,3.338383833988825 L 32.388686222977896,3.3392006953759195 L 32.38938725494381,3.340054642307276 L 32.3896822815244,3.3406485718211423 L 32.38968175380957,3.341502080436842 L 32.39016142553229,3.342059016259778 L 32.390751893272814,3.3425789120757585 L 32.39126833002689,3.343395634219074 L 32.39208036841517,3.3438785585920767 L 32.392670746873094,3.344546889496954 L 32.39296568506617,3.345289255369613 L 32.39315012476017,3.345586242860964 L 32.39388831637615,3.346069120280926 L 32.39473712412848,3.346811829780211 L 32.39532705051403,3.348222342131375 L 32.3958430382229,3.3497812454874385 L 32.396100349406915,3.3516739704553635 L 32.395656090095216,3.3535662602668 L 32.39458442669826,3.354938631700458 L 32.3944364070119,3.3554580672731653 L 32.39395620197996,3.3557546411207015 L 32.393253965385775,3.3568303675389357 L 32.39288414370301,3.3577578639309036 L 32.39229272551458,3.3587594403962995 L 32.39196019361903,3.3590932141049277 L 32.39170135109233,3.3596867974516105 L 32.391774902741446,3.3601692618697885 L 32.391516197766784,3.3605401904731083 L 32.39118357284617,3.3610224004438796 L 32.39147855856222,3.3616905493276272 L 32.39096140155183,3.362024206752079 L 32.39062863741894,3.362729070941106 L 32.39062949296001,3.362732805894801 L 32.39284400493316,3.3629531124935683 L 32.395170033997935,3.3633627648672535 L 32.39679442009943,3.363883303274114 L 32.39830769147607,3.3649604073297095 L 32.40000586474291,3.365592313935075 L 32.40140884257817,3.365890053674078 L 32.403181188048805,3.366002473652978 L 32.40484262282547,3.3663374767368874 L 32.406836500209366,3.3664871343119382 L 32.4076856030391,3.3667845266631073 L 32.4099744599097,3.3676394343747718 L 32.41189391155671,3.3687538770133503 L 32.41311193994929,3.3696081273819694 L 32.41296572832692,3.3671217206745085 L 32.41311498616719,3.364524164448869 L 32.4131551745575,3.3590691314059233 L 32.413230110903214,3.3572508237392893 L 32.413968744348864,3.3570286134477403 L 32.4166647777205,3.3561767211674685 L 32.41810531398625,3.3553982889852945 L 32.41902863647232,3.3550648573548822 L 32.42002600427496,3.354397485506216 L 32.42050598515793,3.354471989687705 L 32.42124430988484,3.354769303201717 L 32.42530571158497,3.3553654586145583 L 32.42781641915875,3.3557009218597575 L 32.4304375611511,3.356630193922993 L 32.43276339369658,3.357410849683505 L 32.43405562463078,3.3576713681485852 L 32.43410538244344,3.3576668511754217 L 32.4342331270611,3.3574787919122464 L 32.434538263062215,3.3569811083032257 L 32.434957538407346,3.356828157307277 L 32.435605383894654,3.3567902372315954 L 32.436024803031664,3.356369211648135 L 32.43648249055431,3.355680114792877 L 32.436863649234496,3.355527150704406 L 32.43743523813787,3.3555657775014014 L 32.43781635287586,3.3554894053676922 L 32.43854067221783,3.3549919521614937 L 32.43895524708983,3.354229153084277 L 32.440030171899366,3.3544098370884288 L 32.440948087275444,3.3544616165845698 L 32.442375798244804,3.354821196163182 L 32.444057914997444,3.3562059495532663 L 32.445689068943345,3.357539420706947 L 32.447065472113174,3.358462732085758 L 32.44890111218856,3.3589250383499847 L 32.450736353937444,3.3601048634866215 L 32.45246946186848,3.3615408855444286 L 32.45659871851153,3.3643107928640217 L 32.45729817563803,3.3649810068991157 L 32.458128391145955,3.3647729127882915 L 32.45894466420932,3.364209599352392 L 32.45920007639437,3.36344096731606 L 32.46006720369016,3.3631339403374874 L 32.46103646723758,3.362570709775938 L 32.46241354083347,3.362315215420071 L 32.463892636953524,3.3620085223215397 L 32.46491269901714,3.3618040782537904 L 32.46593334751828,3.360523347272046 L 32.46690210380505,3.360882641338599 L 32.46761651359743,3.3600630054608565 L 32.46884073027724,3.3595511576436463 L 32.4695042228076,3.3585777375189116 L 32.47021890516835,3.357245581390028 L 32.4715452486949,3.3564775269066476 L 32.47093438536772,3.3544271241244594 L 32.4690489836559,3.3516585037075677 L 32.46532790000274,3.348530114213479 L 32.463187429269155,3.345966353277691 L 32.46191335160003,3.344428100705433 L 32.45969306384255,3.3422438916055657 L 32.45954613893241,3.3424140785262475 L 32.459568773174034,3.3421204806269835 L 32.4589066335147,3.3406338159524047 L 32.458348343022095,3.335764597595147 L 32.458299283954304,3.3322282057104844 L 32.45794349092302,3.3300754383389974 L 32.458201046932615,3.325360426912743 L 32.45825534333984,3.3193127575218724 L 32.45953481913199,3.310856931155116 L 32.460354924296475,3.303118370882539 L 32.46117343358023,3.298301155529954 L 32.4623485314548,3.2941504027446467 L 32.46257373668594,3.2937696606448674 L 32.463154579827005,3.290933854158497 L 32.46346001380166,3.289823382018604 L 32.46361273665864,3.2892489976626895 L 32.4638416550437,3.288712951714119 L 32.463994377414146,3.288138576270286 L 32.46376626674004,3.2871810112166724 L 32.46365249885314,3.286146906032294 L 32.46399615702709,3.2848066745440443 L 32.46453003384457,3.284041003216276 L 32.46466404873248,3.2828347065634245 L 32.46496916233106,3.2822987000573964 L 32.46523618211401,3.2817626729236267 L 32.46500802990599,3.2808817018085907 L 32.46485609594248,3.2799624743447238 L 32.46489458641613,3.2792348422108137 L 32.464856870280336,3.2785071682034714 L 32.46462858743014,3.277855985534209 L 32.46440027305294,3.277281395677417 L 32.4642482377542,3.2765536511900786 L 32.46409606888682,3.276094001474255 L 32.46371528291509,3.275595922404927 L 32.46363932147509,3.2751363136688147 L 32.463448947916156,3.274868126356375 L 32.46325854504311,3.2746382354225405 L 32.46318256340902,3.2742169230938822 L 32.46314464403919,3.273872224087355 L 32.46261120111731,3.273833640364486 L 32.46230654993493,3.27348879760688 L 32.46221152743719,3.273048317759417 L 32.46225012089105,3.272129193048999 L 32.462364777960154,3.2714781950272727 L 32.46240320763971,3.2708654523214418 L 32.46209859812354,3.270444016841081 L 32.46187017510395,3.270060918782163 L 32.46189905260598,3.2699450897860745 L 32.46198473883182,3.2696014027856157 L 32.46187060416086,3.2692566636387195 L 32.46129900860391,3.2693329482843234 L 32.46110854575286,3.2692179563063744 L 32.46091832850086,3.2686433867658375 L 32.46061357780247,3.2684900357269164 L 32.46004202369838,3.2684897269335575 L 32.459508583986704,3.2684511329942603 L 32.45924201852484,3.2681446157574117 L 32.45863231185338,3.2682208792237994 L 32.458137016387546,3.2681057115742593 L 32.457717957129454,3.2679522977430007 L 32.457413104326115,3.267990429512344 L 32.45638411192363,3.268334547473275 L 32.45524098674776,3.2683339247393683 L 32.45440275696699,3.2682185781781605 L 32.453983822812575,3.2678353748149456 L 32.4537551756174,3.2678735461905353 L 32.452726328099224,3.267949575848372 L 32.452269041748224,3.268025918852836 L 32.45169764705011,3.267719223783626 L 32.451469061421534,3.267642505622448 L 32.450592688742496,3.2676037277718146 L 32.450135570360366,3.2673736874324173 L 32.449983128714194,3.2674119007752807 L 32.44925907188427,3.267564696332505 L 32.44845896789378,3.2674110606449656 L 32.44781130589607,3.2672192204270267 L 32.44710643774702,3.2671230799308684 L 32.44699207781596,3.267199609286416 L 32.44668717140791,3.2673526357161893 L 32.44611561028146,3.2673523190595946 L 32.44562044387845,3.267007367735216 L 32.445353736285725,3.2669689234383297 L 32.44501063299233,3.267275113343667 L 32.444477237982795,3.267159918099572 L 32.44417246994561,3.2670448597308805 L 32.44360079158588,3.2672743293241426 L 32.4430674822762,3.267005948234699 L 32.442762777035,3.2667759897795445 L 32.44203880603583,3.2667755858569776 L 32.44127653182717,3.2671198373772503 L 32.440743137656526,3.2670046501782313 L 32.44009552070415,3.2667362027807587 L 32.4397146961284,3.2663530157988276 L 32.43914302988624,3.2665441774313693 L 32.43860927442641,3.2670800462645557 L 32.438075762823075,3.267194635188154 L 32.43716143897068,3.266887749689544 L 32.43666606379778,3.2669257668274994 L 32.436430326892044,3.2668203002349627 L 32.43632321500252,3.2667723785644194 L 32.435599286725086,3.2666953775145324 L 32.43479903726828,3.2668098148974374 L 32.43441817302348,3.266503218689996 L 32.434189503792375,3.266579691687174 L 32.4338465276796,3.2666560899302173 L 32.433465619961495,3.266426086758461 L 32.43327535511258,3.265966413299545 L 32.43266558595775,3.266157548546985 L 32.43224653313931,3.266004125734174 L 32.432055816624704,3.2663486933325925 L 32.43178902323479,3.26646343126387 L 32.431579706149606,3.266022894893497 L 32.43119875707239,3.2658694833932884 L 32.43070342496959,3.2658309052255015 L 32.43039865959968,3.2657158420913626 L 32.4303227128617,3.26525622440247 L 32.42990369514704,3.2650262074341794 L 32.42944649764458,3.264949344309535 L 32.42895107960248,3.265063960068401 L 32.428417395519986,3.2654849241671786 L 32.42811245624656,3.2656762407129203 L 32.42754096302822,3.2655610151133465 L 32.42715979777083,3.26579058477644 L 32.42670224258055,3.266326488980257 L 32.4261687430039,3.266402776112317 L 32.42544481794066,3.2663257669849637 L 32.42498768598602,3.2661340132968975 L 32.42468289876804,3.266057245582573 L 32.424340174756715,3.265674075728653 L 32.424111777316575,3.265290962608759 L 32.423692586652066,3.2653673233625766 L 32.4233878444528,3.2652139530590194 L 32.42331187912945,3.2647926406014975 L 32.422892785194534,3.264715805605814 L 32.422321249823,3.264677170415013 L 32.421864241886354,3.2642556377759973 L 32.421369360223515,3.26345111072203 L 32.42087440356271,3.2627614629056 L 32.42037943547788,3.2621101210456387 L 32.42015122890315,3.2613823413160725 L 32.42018992396491,3.2603483361575885 L 32.42011396003003,3.2599270137707874 L 32.41954264832412,3.2595054143991717 L 32.41939062505519,3.2588159749507413 L 32.41946710204332,3.2583564456690706 L 32.419505489719356,3.257858606301743 L 32.41920086029325,3.2575137446303786 L 32.418820047888254,3.257130551640209 L 32.4184582668294,3.256766518567335 L 32.41834422443527,3.2563068879234427 L 32.41803970494662,3.255770544534038 L 32.41815436307713,3.2551578521050186 L 32.418116546934634,3.254659959604175 L 32.417811940818595,3.2542768106743276 L 32.41792656467063,3.253740711402451 L 32.418155682175524,3.2528600105348344 L 32.41804168400835,3.2523237786329546 L 32.41781341421832,3.251710887303079 L 32.41792843303393,3.25048543510612 L 32.41808103818427,3.2501408483395458 L 32.41773822053356,3.24994915905175 L 32.417242841727195,3.250025464063366 L 32.41718984324552,3.2498475316246225 L 32.41709857837494,3.249840139154417 L 32.41698625329085,3.2491375961659306 L 32.4167838116914,3.2483216983728735 L 32.416491109706776,3.2476417106761537 L 32.41636584117559,3.247383939714981 L 32.4153664819414,3.2473965761618273 L 32.41336152271858,3.248433224418502 L 32.41232830093084,3.249592533404865 L 32.41020150280854,3.25123958377902 L 32.40764938794009,3.2531305668386397 L 32.40515828780666,3.2545331964477042 L 32.404429283263894,3.254776954991146 L 32.403760944519306,3.255142845437589 L 32.40303085901523,3.257218040252825 L 32.40114756414759,3.257888444143721 L 32.399689691826005,3.2581317636483154 L 32.3990823041311,3.258131399587672 L 32.39767747914068,3.2588968088799297 L 32.39695576202057,3.259290030328783 L 32.395800851687525,3.2607544811689584 L 32.39555691106642,3.262402626779344 L 32.39348959108412,3.266064242477048 L 32.39239964522981,3.2676850718225583 L 32.391848166451794,3.26850515713197 L 32.39130077622685,3.2697257786011353 L 32.39026702805399,3.2716786763593126 L 32.38911124141094,3.274547212509481 L 32.38838173599827,3.275584576206686 L 32.38819851548263,3.277232752090646 L 32.3888659489247,3.2783930678595077 L 32.38862191253057,3.2801633024821033 L 32.38752759096974,3.281810917690821 L 32.38716263097896,3.282665360401077 L 32.38661470260389,3.2847406452813694 L 32.385945777570896,3.286022232630665 L 32.38406193274809,3.2874862112580785 L 32.38339262689405,3.2893782714884687 L 32.38241950306731,3.2914532872382427 L 32.38114340574498,3.2923376822307397 L 32.38017102855268,3.2931917420218535 L 32.37846919512735,3.29496105623058 L 32.3771321031382,3.2962422155539977 L 32.3754310215347,3.296790572314599 L 32.37360841828602,3.2973998958458175 L 32.37270248192476,3.2978130718500602 L 32.372908482615664,3.298333707311882 L 32.37316638208305,3.2992244865158824 L 32.37312911053587,3.2997810979210582 L 32.3726856672443,3.300374560716535 L 32.373017458322366,3.301191169096079 z\" /></g></g></svg>"
          },
          "metadata": {},
          "execution_count": 17
        }
      ],
      "source": [
        "# prompt: find the row with Apyetta South in addr_vname of village_gdf\n",
        "\n",
        "# Find the row with 'Apyetta South' in 'addr_vname'\n",
        "apyetta_south_row = village_gdf[village_gdf['addr_vname'] == 'Apyetta South']\n",
        "\n",
        "# Print the row (or handle it as needed)\n",
        "apyetta_south_row.geometry.iloc[0]"
      ]
    },
    {
      "cell_type": "code",
      "source": [
        "# Assume `gdf` is your GeoDataFrame and `index` is the row you want to convert\n",
        "index = 0  # Adjust the index to the specific row you want\n",
        "geometry = village_gdf.iloc[index].geometry\n",
        "\n",
        "def geom_to_ee_fmt(geometry):\n",
        "  # Convert the geometry to a GeoJSON format\n",
        "  geometry_geojson = geometry.__geo_interface__\n",
        "\n",
        "# Ensure it is in the format expected by ee.Geometry.MultiPolygon\n",
        "  if geometry_geojson[\"type\"] == \"MultiPolygon\":\n",
        "    # Create an ee.Geometry.MultiPolygon\n",
        "    ee_geometry = ee.Geometry.MultiPolygon(geometry_geojson[\"coordinates\"])\n",
        "  elif geometry_geojson[\"type\"] == \"Polygon\":\n",
        "    # If it's a single Polygon, convert it to MultiPolygon\n",
        "    ee_geometry = ee.Geometry.MultiPolygon([geometry_geojson[\"coordinates\"]])\n",
        "  else:\n",
        "    raise ValueError(\"Geometry type is not Polygon or MultiPolygon.\")\n",
        "  return ee_geometry\n",
        "\n",
        "\n",
        "# ee_geometry is now an Earth Engine MultiPolygon geometry\n",
        "village = geom_to_ee_fmt(geometry)\n",
        "print(village.getInfo())"
      ],
      "metadata": {
        "colab": {
          "base_uri": "https://localhost:8080/",
          "height": 55
        },
        "id": "i-3MmQJVscZk",
        "outputId": "fffe80e7-c5a8-47b7-ad95-e20a04726331"
      },
      "execution_count": null,
      "outputs": [
        {
          "output_type": "display_data",
          "data": {
            "text/plain": [
              "<IPython.core.display.HTML object>"
            ],
            "text/html": [
              "\n",
              "            <style>\n",
              "                .geemap-dark {\n",
              "                    --jp-widgets-color: white;\n",
              "                    --jp-widgets-label-color: white;\n",
              "                    --jp-ui-font-color1: white;\n",
              "                    --jp-layout-color2: #454545;\n",
              "                    background-color: #383838;\n",
              "                }\n",
              "\n",
              "                .geemap-dark .jupyter-button {\n",
              "                    --jp-layout-color3: #383838;\n",
              "                }\n",
              "\n",
              "                .geemap-colab {\n",
              "                    background-color: var(--colab-primary-surface-color, white);\n",
              "                }\n",
              "\n",
              "                .geemap-colab .jupyter-button {\n",
              "                    --jp-layout-color3: var(--colab-primary-surface-color, white);\n",
              "                }\n",
              "            </style>\n",
              "            "
            ]
          },
          "metadata": {}
        },
        {
          "output_type": "stream",
          "name": "stdout",
          "text": [
            "{'type': 'Polygon', 'coordinates': [[[33.021795932856996, 3.8097489636418054], [33.0214095313367, 3.806644512528437], [33.02301920233525, 3.8062564133735934], [33.02485427551908, 3.8075498874955143], [33.02623122133802, 3.8084275816661677], [33.025151252073, 3.809956278325074], [33.021795932856996, 3.8097489636418054]]]}\n"
          ]
        }
      ]
    },
    {
      "cell_type": "code",
      "execution_count": null,
      "metadata": {
        "colab": {
          "base_uri": "https://localhost:8080/",
          "height": 17
        },
        "id": "EPt2PKg1Uiue",
        "outputId": "a3ea49f4-a801-4332-f436-cf079c24385c"
      },
      "outputs": [
        {
          "output_type": "display_data",
          "data": {
            "text/plain": [
              "<IPython.core.display.HTML object>"
            ],
            "text/html": [
              "\n",
              "            <style>\n",
              "                .geemap-dark {\n",
              "                    --jp-widgets-color: white;\n",
              "                    --jp-widgets-label-color: white;\n",
              "                    --jp-ui-font-color1: white;\n",
              "                    --jp-layout-color2: #454545;\n",
              "                    background-color: #383838;\n",
              "                }\n",
              "\n",
              "                .geemap-dark .jupyter-button {\n",
              "                    --jp-layout-color3: #383838;\n",
              "                }\n",
              "\n",
              "                .geemap-colab {\n",
              "                    background-color: var(--colab-primary-surface-color, white);\n",
              "                }\n",
              "\n",
              "                .geemap-colab .jupyter-button {\n",
              "                    --jp-layout-color3: var(--colab-primary-surface-color, white);\n",
              "                }\n",
              "            </style>\n",
              "            "
            ]
          },
          "metadata": {}
        }
      ],
      "source": [
        "# prompt: get the geometry of the first row from village_gdf\n",
        "\n",
        "points = sample_points_in_polygon_shapely(apyetta_south_row.geometry.iloc[0], spacing=200)"
      ]
    },
    {
      "cell_type": "code",
      "execution_count": null,
      "metadata": {
        "colab": {
          "base_uri": "https://localhost:8080/",
          "height": 35
        },
        "id": "ZpCLEIVZ_CWB",
        "outputId": "511e9925-c8d4-4b93-b8cc-4243990610fa"
      },
      "outputs": [
        {
          "output_type": "display_data",
          "data": {
            "text/plain": [
              "<IPython.core.display.HTML object>"
            ],
            "text/html": [
              "\n",
              "            <style>\n",
              "                .geemap-dark {\n",
              "                    --jp-widgets-color: white;\n",
              "                    --jp-widgets-label-color: white;\n",
              "                    --jp-ui-font-color1: white;\n",
              "                    --jp-layout-color2: #454545;\n",
              "                    background-color: #383838;\n",
              "                }\n",
              "\n",
              "                .geemap-dark .jupyter-button {\n",
              "                    --jp-layout-color3: #383838;\n",
              "                }\n",
              "\n",
              "                .geemap-colab {\n",
              "                    background-color: var(--colab-primary-surface-color, white);\n",
              "                }\n",
              "\n",
              "                .geemap-colab .jupyter-button {\n",
              "                    --jp-layout-color3: var(--colab-primary-surface-color, white);\n",
              "                }\n",
              "            </style>\n",
              "            "
            ]
          },
          "metadata": {}
        },
        {
          "output_type": "execute_result",
          "data": {
            "text/plain": [
              "2230"
            ]
          },
          "metadata": {},
          "execution_count": 19
        }
      ],
      "source": [
        "len(points)"
      ]
    },
    {
      "cell_type": "code",
      "execution_count": null,
      "metadata": {
        "colab": {
          "base_uri": "https://localhost:8080/"
        },
        "id": "Io4kQSGU7hNE",
        "collapsed": true,
        "outputId": "a70cd628-9d5a-4d1d-f63b-a2c84f9a4244"
      },
      "outputs": [
        {
          "output_type": "display_data",
          "data": {
            "text/plain": [
              "<IPython.core.display.HTML object>"
            ],
            "text/html": [
              "\n",
              "            <style>\n",
              "                .geemap-dark {\n",
              "                    --jp-widgets-color: white;\n",
              "                    --jp-widgets-label-color: white;\n",
              "                    --jp-ui-font-color1: white;\n",
              "                    --jp-layout-color2: #454545;\n",
              "                    background-color: #383838;\n",
              "                }\n",
              "\n",
              "                .geemap-dark .jupyter-button {\n",
              "                    --jp-layout-color3: #383838;\n",
              "                }\n",
              "\n",
              "                .geemap-colab {\n",
              "                    background-color: var(--colab-primary-surface-color, white);\n",
              "                }\n",
              "\n",
              "                .geemap-colab .jupyter-button {\n",
              "                    --jp-layout-color3: var(--colab-primary-surface-color, white);\n",
              "                }\n",
              "            </style>\n",
              "            "
            ]
          },
          "metadata": {}
        },
        {
          "output_type": "stream",
          "name": "stdout",
          "text": [
            "Error processing point: cannot access local variable 'pred' where it is not associated with a value\n",
            "Error processing point: cannot access local variable 'pred' where it is not associated with a value\n"
          ]
        },
        {
          "output_type": "stream",
          "name": "stderr",
          "text": [
            "WARNING:urllib3.connectionpool:Connection pool is full, discarding connection: earthengine.googleapis.com. Connection pool size: 10\n",
            "WARNING:urllib3.connectionpool:Connection pool is full, discarding connection: earthengine.googleapis.com. Connection pool size: 10\n",
            "WARNING:urllib3.connectionpool:Connection pool is full, discarding connection: earthengine.googleapis.com. Connection pool size: 10\n",
            "WARNING:urllib3.connectionpool:Connection pool is full, discarding connection: earthengine.googleapis.com. Connection pool size: 10\n"
          ]
        },
        {
          "output_type": "stream",
          "name": "stdout",
          "text": [
            "Error processing point: cannot access local variable 'pred' where it is not associated with a value\n",
            "Error processing point: cannot access local variable 'pred' where it is not associated with a value\n",
            "Error processing point: cannot access local variable 'pred' where it is not associated with a value\n",
            "Error processing point: cannot access local variable 'pred' where it is not associated with a value\n",
            "Error processing point: cannot access local variable 'pred' where it is not associated with a value\n",
            "Error processing point: cannot access local variable 'pred' where it is not associated with a value\n",
            "Error processing point: cannot access local variable 'pred' where it is not associated with a value\n",
            "Error processing point: cannot access local variable 'pred' where it is not associated with a value\n"
          ]
        },
        {
          "output_type": "stream",
          "name": "stderr",
          "text": [
            "WARNING:urllib3.connectionpool:Connection pool is full, discarding connection: earthengine.googleapis.com. Connection pool size: 10\n",
            "WARNING:urllib3.connectionpool:Connection pool is full, discarding connection: earthengine.googleapis.com. Connection pool size: 10\n",
            "WARNING:urllib3.connectionpool:Connection pool is full, discarding connection: earthengine.googleapis.com. Connection pool size: 10\n",
            "WARNING:urllib3.connectionpool:Connection pool is full, discarding connection: earthengine.googleapis.com. Connection pool size: 10\n",
            "WARNING:googleapiclient.http:Sleeping 1.94 seconds before retry 1 of 5 for request: POST https://earthengine.googleapis.com/v1/projects/ee-isekalala/value:compute?prettyPrint=false&alt=json, after 503\n",
            "WARNING:urllib3.connectionpool:Connection pool is full, discarding connection: earthengine.googleapis.com. Connection pool size: 10\n",
            "WARNING:urllib3.connectionpool:Connection pool is full, discarding connection: earthengine.googleapis.com. Connection pool size: 10\n",
            "WARNING:urllib3.connectionpool:Connection pool is full, discarding connection: earthengine.googleapis.com. Connection pool size: 10\n",
            "WARNING:urllib3.connectionpool:Connection pool is full, discarding connection: earthengine.googleapis.com. Connection pool size: 10\n",
            "WARNING:urllib3.connectionpool:Connection pool is full, discarding connection: earthengine.googleapis.com. Connection pool size: 10\n",
            "WARNING:urllib3.connectionpool:Connection pool is full, discarding connection: earthengine.googleapis.com. Connection pool size: 10\n",
            "WARNING:urllib3.connectionpool:Connection pool is full, discarding connection: earthengine.googleapis.com. Connection pool size: 10\n",
            "WARNING:googleapiclient.http:Sleeping 1.42 seconds before retry 1 of 5 for request: POST https://earthengine.googleapis.com/v1/projects/ee-isekalala/value:compute?prettyPrint=false&alt=json, after 503\n",
            "WARNING:urllib3.connectionpool:Connection pool is full, discarding connection: earthengine.googleapis.com. Connection pool size: 10\n",
            "WARNING:urllib3.connectionpool:Connection pool is full, discarding connection: earthengine.googleapis.com. Connection pool size: 10\n",
            "WARNING:urllib3.connectionpool:Connection pool is full, discarding connection: earthengine.googleapis.com. Connection pool size: 10\n",
            "WARNING:urllib3.connectionpool:Connection pool is full, discarding connection: earthengine.googleapis.com. Connection pool size: 10\n"
          ]
        }
      ],
      "source": [
        "pred = 0\n",
        "targets = 0\n",
        "model.eval()\n",
        "# Use ThreadPoolExecutor to parallelize the processing of points\n",
        "with ThreadPoolExecutor(max_workers=10) as executor:\n",
        "    executor.map(lambda point: process_point(point[1], point[0], 2023), points)"
      ]
    },
    {
      "cell_type": "code",
      "source": [
        "targets"
      ],
      "metadata": {
        "colab": {
          "base_uri": "https://localhost:8080/",
          "height": 34
        },
        "id": "AS-SziFXgW08",
        "outputId": "db7ba7ae-acd3-49c0-e8d8-29ac751590ea"
      },
      "execution_count": null,
      "outputs": [
        {
          "output_type": "display_data",
          "data": {
            "text/plain": [
              "<IPython.core.display.HTML object>"
            ],
            "text/html": [
              "\n",
              "            <style>\n",
              "                .geemap-dark {\n",
              "                    --jp-widgets-color: white;\n",
              "                    --jp-widgets-label-color: white;\n",
              "                    --jp-ui-font-color1: white;\n",
              "                    --jp-layout-color2: #454545;\n",
              "                    background-color: #383838;\n",
              "                }\n",
              "\n",
              "                .geemap-dark .jupyter-button {\n",
              "                    --jp-layout-color3: #383838;\n",
              "                }\n",
              "\n",
              "                .geemap-colab {\n",
              "                    background-color: var(--colab-primary-surface-color, white);\n",
              "                }\n",
              "\n",
              "                .geemap-colab .jupyter-button {\n",
              "                    --jp-layout-color3: var(--colab-primary-surface-color, white);\n",
              "                }\n",
              "            </style>\n",
              "            "
            ]
          },
          "metadata": {}
        },
        {
          "output_type": "execute_result",
          "data": {
            "text/plain": [
              "571.8397057565046"
            ]
          },
          "metadata": {},
          "execution_count": 21
        }
      ]
    },
    {
      "cell_type": "code",
      "source": [
        "pred"
      ],
      "metadata": {
        "colab": {
          "base_uri": "https://localhost:8080/",
          "height": 34
        },
        "id": "UF4w9KCeGDNW",
        "outputId": "39a9ed48-11ce-43f6-b8c8-cf03c6f6ccfe"
      },
      "execution_count": null,
      "outputs": [
        {
          "output_type": "display_data",
          "data": {
            "text/plain": [
              "<IPython.core.display.HTML object>"
            ],
            "text/html": [
              "\n",
              "            <style>\n",
              "                .geemap-dark {\n",
              "                    --jp-widgets-color: white;\n",
              "                    --jp-widgets-label-color: white;\n",
              "                    --jp-ui-font-color1: white;\n",
              "                    --jp-layout-color2: #454545;\n",
              "                    background-color: #383838;\n",
              "                }\n",
              "\n",
              "                .geemap-dark .jupyter-button {\n",
              "                    --jp-layout-color3: #383838;\n",
              "                }\n",
              "\n",
              "                .geemap-colab {\n",
              "                    background-color: var(--colab-primary-surface-color, white);\n",
              "                }\n",
              "\n",
              "                .geemap-colab .jupyter-button {\n",
              "                    --jp-layout-color3: var(--colab-primary-surface-color, white);\n",
              "                }\n",
              "            </style>\n",
              "            "
            ]
          },
          "metadata": {}
        },
        {
          "output_type": "execute_result",
          "data": {
            "text/plain": [
              "87.81791567988694"
            ]
          },
          "metadata": {},
          "execution_count": 22
        }
      ]
    },
    {
      "cell_type": "code",
      "execution_count": null,
      "metadata": {
        "colab": {
          "base_uri": "https://localhost:8080/",
          "height": 17
        },
        "id": "XqrX0ozNhorK",
        "outputId": "a3eb9b67-9545-4633-d95b-3ee822824ae9"
      },
      "outputs": [
        {
          "output_type": "display_data",
          "data": {
            "text/plain": [
              "<IPython.core.display.HTML object>"
            ],
            "text/html": [
              "\n",
              "            <style>\n",
              "                .geemap-dark {\n",
              "                    --jp-widgets-color: white;\n",
              "                    --jp-widgets-label-color: white;\n",
              "                    --jp-ui-font-color1: white;\n",
              "                    --jp-layout-color2: #454545;\n",
              "                    background-color: #383838;\n",
              "                }\n",
              "\n",
              "                .geemap-dark .jupyter-button {\n",
              "                    --jp-layout-color3: #383838;\n",
              "                }\n",
              "\n",
              "                .geemap-colab {\n",
              "                    background-color: var(--colab-primary-surface-color, white);\n",
              "                }\n",
              "\n",
              "                .geemap-colab .jupyter-button {\n",
              "                    --jp-layout-color3: var(--colab-primary-surface-color, white);\n",
              "                }\n",
              "            </style>\n",
              "            "
            ]
          },
          "metadata": {}
        }
      ],
      "source": [
        "lamw_dec = 3.6178832, 32.6510669 #an area in Lamwo with decrease in buildings\n",
        "kyam = 0.34391170612047717, 32.63150537494272 # area in kyambogo\n",
        "numu = 0.7124211360209369, 32.783651340130085 #namuganga\n",
        "lake = -0.08423319553560636, 32.96628528341806 #over the lake\n",
        "\n",
        "lat, lng = kyam"
      ]
    },
    {
      "cell_type": "code",
      "execution_count": null,
      "metadata": {
        "colab": {
          "base_uri": "https://localhost:8080/",
          "height": 53
        },
        "id": "8fOSoKb6mLnF",
        "outputId": "1f1d7011-aca3-4007-dabc-cb898a02aca1"
      },
      "outputs": [
        {
          "output_type": "display_data",
          "data": {
            "text/plain": [
              "<IPython.core.display.HTML object>"
            ],
            "text/html": [
              "\n",
              "            <style>\n",
              "                .geemap-dark {\n",
              "                    --jp-widgets-color: white;\n",
              "                    --jp-widgets-label-color: white;\n",
              "                    --jp-ui-font-color1: white;\n",
              "                    --jp-layout-color2: #454545;\n",
              "                    background-color: #383838;\n",
              "                }\n",
              "\n",
              "                .geemap-dark .jupyter-button {\n",
              "                    --jp-layout-color3: #383838;\n",
              "                }\n",
              "\n",
              "                .geemap-colab {\n",
              "                    background-color: var(--colab-primary-surface-color, white);\n",
              "                }\n",
              "\n",
              "                .geemap-colab .jupyter-button {\n",
              "                    --jp-layout-color3: var(--colab-primary-surface-color, white);\n",
              "                }\n",
              "            </style>\n",
              "            "
            ]
          },
          "metadata": {}
        },
        {
          "output_type": "stream",
          "name": "stdout",
          "text": [
            "building counts for year 2023:  5036.126159301598\n",
            "building counts for year 2022:  3874.2813599126057\n"
          ]
        }
      ],
      "source": [
        "\"\"\"buffer_distance = 100\n",
        "point = ee.Geometry.Point([lng, lat])\"\"\"\n",
        "region = geom_to_ee_fmt(apyetta_south_row.geometry.iloc[0])\n",
        "scale_m = 1\n",
        "\n",
        "print(\"building counts for year 2023: \", get_open_buildings_counts(region, 2023))\n",
        "print(\"building counts for year 2022: \", get_open_buildings_counts(region, 2022))"
      ]
    },
    {
      "cell_type": "code",
      "source": [
        "composite = get_composite_data(region, 2023, 50)\n",
        "url = composite.getDownloadUrl({\n",
        "    'bands': ['B4', 'B3', 'B2', 'building_presence', 'building_presence_1', 'diff1', 'diff2', 'built', 'crops', 'water', 'trees', 'grass'],\n",
        "    'region': region,\n",
        "    'scale': 50,\n",
        "    'format': 'NPY'\n",
        "})\n",
        "response = requests.get(url)\n",
        "data = np.load(io.BytesIO(response.content), allow_pickle=True)\n",
        "resized = ee_bytes_to_img(data, 12)\n"
      ],
      "metadata": {
        "colab": {
          "base_uri": "https://localhost:8080/",
          "height": 17
        },
        "id": "PV60_rfnLNYV",
        "outputId": "baddd0df-7875-4d6e-e08a-9d4aa7c555a4"
      },
      "execution_count": null,
      "outputs": [
        {
          "output_type": "display_data",
          "data": {
            "text/plain": [
              "<IPython.core.display.HTML object>"
            ],
            "text/html": [
              "\n",
              "            <style>\n",
              "                .geemap-dark {\n",
              "                    --jp-widgets-color: white;\n",
              "                    --jp-widgets-label-color: white;\n",
              "                    --jp-ui-font-color1: white;\n",
              "                    --jp-layout-color2: #454545;\n",
              "                    background-color: #383838;\n",
              "                }\n",
              "\n",
              "                .geemap-dark .jupyter-button {\n",
              "                    --jp-layout-color3: #383838;\n",
              "                }\n",
              "\n",
              "                .geemap-colab {\n",
              "                    background-color: var(--colab-primary-surface-color, white);\n",
              "                }\n",
              "\n",
              "                .geemap-colab .jupyter-button {\n",
              "                    --jp-layout-color3: var(--colab-primary-surface-color, white);\n",
              "                }\n",
              "            </style>\n",
              "            "
            ]
          },
          "metadata": {}
        }
      ]
    },
    {
      "cell_type": "code",
      "source": [
        "resized.shape"
      ],
      "metadata": {
        "colab": {
          "base_uri": "https://localhost:8080/",
          "height": 35
        },
        "id": "DT6CccJ6TYRg",
        "outputId": "3564ceed-cfe7-43e4-ea4c-6e56dc8baf41"
      },
      "execution_count": null,
      "outputs": [
        {
          "output_type": "display_data",
          "data": {
            "text/plain": [
              "<IPython.core.display.HTML object>"
            ],
            "text/html": [
              "\n",
              "            <style>\n",
              "                .geemap-dark {\n",
              "                    --jp-widgets-color: white;\n",
              "                    --jp-widgets-label-color: white;\n",
              "                    --jp-ui-font-color1: white;\n",
              "                    --jp-layout-color2: #454545;\n",
              "                    background-color: #383838;\n",
              "                }\n",
              "\n",
              "                .geemap-dark .jupyter-button {\n",
              "                    --jp-layout-color3: #383838;\n",
              "                }\n",
              "\n",
              "                .geemap-colab {\n",
              "                    background-color: var(--colab-primary-surface-color, white);\n",
              "                }\n",
              "\n",
              "                .geemap-colab .jupyter-button {\n",
              "                    --jp-layout-color3: var(--colab-primary-surface-color, white);\n",
              "                }\n",
              "            </style>\n",
              "            "
            ]
          },
          "metadata": {}
        },
        {
          "output_type": "execute_result",
          "data": {
            "text/plain": [
              "(274, 221, 12)"
            ]
          },
          "metadata": {},
          "execution_count": 42
        }
      ]
    },
    {
      "cell_type": "code",
      "source": [
        "pred = 0\n",
        "with torch.no_grad():\n",
        "  pred = model(torch.tensor(resized, dtype=torch.float32).permute(2, 0, 1).unsqueeze(0).to(device))\n",
        "print(pred)"
      ],
      "metadata": {
        "colab": {
          "base_uri": "https://localhost:8080/",
          "height": 35
        },
        "id": "NidFwsXANBlV",
        "outputId": "5de294a9-6dbc-4022-eaf1-688d1b8081cf"
      },
      "execution_count": null,
      "outputs": [
        {
          "output_type": "display_data",
          "data": {
            "text/plain": [
              "<IPython.core.display.HTML object>"
            ],
            "text/html": [
              "\n",
              "            <style>\n",
              "                .geemap-dark {\n",
              "                    --jp-widgets-color: white;\n",
              "                    --jp-widgets-label-color: white;\n",
              "                    --jp-ui-font-color1: white;\n",
              "                    --jp-layout-color2: #454545;\n",
              "                    background-color: #383838;\n",
              "                }\n",
              "\n",
              "                .geemap-dark .jupyter-button {\n",
              "                    --jp-layout-color3: #383838;\n",
              "                }\n",
              "\n",
              "                .geemap-colab {\n",
              "                    background-color: var(--colab-primary-surface-color, white);\n",
              "                }\n",
              "\n",
              "                .geemap-colab .jupyter-button {\n",
              "                    --jp-layout-color3: var(--colab-primary-surface-color, white);\n",
              "                }\n",
              "            </style>\n",
              "            "
            ]
          },
          "metadata": {}
        },
        {
          "output_type": "stream",
          "name": "stdout",
          "text": [
            "tensor([[70.7000]])\n"
          ]
        }
      ]
    },
    {
      "cell_type": "code",
      "execution_count": null,
      "metadata": {
        "colab": {
          "base_uri": "https://localhost:8080/",
          "height": 17
        },
        "id": "x-nnwQ7fuQuM",
        "outputId": "f175e482-94f4-49c3-a389-90b4dd23f083"
      },
      "outputs": [
        {
          "data": {
            "text/html": [
              "\n",
              "            <style>\n",
              "                .geemap-dark {\n",
              "                    --jp-widgets-color: white;\n",
              "                    --jp-widgets-label-color: white;\n",
              "                    --jp-ui-font-color1: white;\n",
              "                    --jp-layout-color2: #454545;\n",
              "                    background-color: #383838;\n",
              "                }\n",
              "\n",
              "                .geemap-dark .jupyter-button {\n",
              "                    --jp-layout-color3: #383838;\n",
              "                }\n",
              "\n",
              "                .geemap-colab {\n",
              "                    background-color: var(--colab-primary-surface-color, white);\n",
              "                }\n",
              "\n",
              "                .geemap-colab .jupyter-button {\n",
              "                    --jp-layout-color3: var(--colab-primary-surface-color, white);\n",
              "                }\n",
              "            </style>\n",
              "            "
            ],
            "text/plain": [
              "<IPython.core.display.HTML object>"
            ]
          },
          "metadata": {},
          "output_type": "display_data"
        }
      ],
      "source": [
        "#Precalculated means and stds for Normalization\n",
        "mean = torch.Tensor([0.1217270940542221, 0.11625519394874573, 0.11000549048185349, 0.011712568812072277, 0.011117534711956978, 0.6160487532615662, 0.5525528192520142, 0.1383216381072998, 0.1876230090856552, 0.07891623675823212, 0.30977097153663635, 0.1511278599500656])\n",
        "std = torch.Tensor([0.05446215718984604, 0.03039601258933544, 0.03132794052362442, 0.07931023091077805, 0.07740972191095352, 0.04288787022233009, 0.05698736011981964, 0.21387967467308044, 0.14159177243709564, 0.17825061082839966, 0.2660183608531952, 0.13877056539058685])\n",
        "\n",
        "def rescale_to_8bit(image_data, mins, maxs):\n",
        "    # Compute the range for each channel\n",
        "    diffs = maxs - mins\n",
        "\n",
        "    # Apply scaling per channel. Assumes image_data has shape (..., channels)\n",
        "    scaled_data = 255 * (image_data - mins) / diffs\n",
        "\n",
        "    # Clip values to ensure they lie between 0 and 255, then convert to uint8\n",
        "    scaled_data = np.clip(scaled_data, 0, 255)\n",
        "    return scaled_data.astype(np.uint8)\n",
        "\n",
        "#global mins and maxs arrays for your 12 channels:\n",
        "mins = np.array([0.029999999329447746, 0.04580000042915344, 0.0625,\n",
        "                 0.0, 0.0, -28.30534877019631, -18.59455935598352,\n",
        "                 0.0, 0.0, 0.0, 0.0, 0.0])\n",
        "maxs = np.array([0.43389999, 0.45219999, 0.37320001,\n",
        "                 1.0, 1.0, 17.798385901933557, 15.45278815641693,\n",
        "                 0.7826327021463167, 0.650800557781919, 0.7522232439733658,\n",
        "                 0.7768183690705743, 0.7064678945463211])"
      ]
    },
    {
      "cell_type": "code",
      "execution_count": null,
      "metadata": {
        "colab": {
          "base_uri": "https://localhost:8080/",
          "height": 53
        },
        "id": "y2npYa4ch2_c",
        "outputId": "5b2cb284-9303-4e20-ad87-2fe32a5499b1"
      },
      "outputs": [
        {
          "data": {
            "text/html": [
              "\n",
              "            <style>\n",
              "                .geemap-dark {\n",
              "                    --jp-widgets-color: white;\n",
              "                    --jp-widgets-label-color: white;\n",
              "                    --jp-ui-font-color1: white;\n",
              "                    --jp-layout-color2: #454545;\n",
              "                    background-color: #383838;\n",
              "                }\n",
              "\n",
              "                .geemap-dark .jupyter-button {\n",
              "                    --jp-layout-color3: #383838;\n",
              "                }\n",
              "\n",
              "                .geemap-colab {\n",
              "                    background-color: var(--colab-primary-surface-color, white);\n",
              "                }\n",
              "\n",
              "                .geemap-colab .jupyter-button {\n",
              "                    --jp-layout-color3: var(--colab-primary-surface-color, white);\n",
              "                }\n",
              "            </style>\n",
              "            "
            ],
            "text/plain": [
              "<IPython.core.display.HTML object>"
            ]
          },
          "metadata": {},
          "output_type": "display_data"
        },
        {
          "name": "stdout",
          "output_type": "stream",
          "text": [
            "Model output: tensor([[0.0459]])\n",
            "Real target: 0\n"
          ]
        }
      ],
      "source": [
        "# prompt: convert inp to tensor, and input to the model\n",
        "\n",
        "# Convert the NumPy array 'inp' to a PyTorch tensor\n",
        "\n",
        "#rescaled = rescale_to_8bit(inp, mins, maxs)\n",
        "inp_tensor = torch.tensor(inp, dtype=torch.float32).permute(2, 0, 1).unsqueeze(0).to(device)\n",
        "#normalized = transforms.functional.normalize(inp_tensor, mean, std)\n",
        "\n",
        "# Make sure the model is in evaluation mode\n",
        "model.eval()\n",
        "\n",
        "# Perform inference\n",
        "with torch.no_grad():\n",
        "    output = model(inp_tensor)\n",
        "\n",
        "print(\"Model output:\", output)\n",
        "print(\"Real target:\", target)"
      ]
    },
    {
      "cell_type": "code",
      "execution_count": null,
      "metadata": {
        "colab": {
          "base_uri": "https://localhost:8080/",
          "height": 35
        },
        "id": "CZbGRFhtiGiz",
        "outputId": "6434ade8-7c0b-4516-c7f6-e532f6e183ae"
      },
      "outputs": [
        {
          "data": {
            "text/html": [
              "\n",
              "            <style>\n",
              "                .geemap-dark {\n",
              "                    --jp-widgets-color: white;\n",
              "                    --jp-widgets-label-color: white;\n",
              "                    --jp-ui-font-color1: white;\n",
              "                    --jp-layout-color2: #454545;\n",
              "                    background-color: #383838;\n",
              "                }\n",
              "\n",
              "                .geemap-dark .jupyter-button {\n",
              "                    --jp-layout-color3: #383838;\n",
              "                }\n",
              "\n",
              "                .geemap-colab {\n",
              "                    background-color: var(--colab-primary-surface-color, white);\n",
              "                }\n",
              "\n",
              "                .geemap-colab .jupyter-button {\n",
              "                    --jp-layout-color3: var(--colab-primary-surface-color, white);\n",
              "                }\n",
              "            </style>\n",
              "            "
            ],
            "text/plain": [
              "<IPython.core.display.HTML object>"
            ]
          },
          "metadata": {},
          "output_type": "display_data"
        },
        {
          "data": {
            "text/plain": [
              "torch.Size([1, 12, 200, 200])"
            ]
          },
          "execution_count": 20,
          "metadata": {},
          "output_type": "execute_result"
        }
      ],
      "source": [
        "inp_tensor.shape"
      ]
    },
    {
      "cell_type": "code",
      "execution_count": null,
      "metadata": {
        "colab": {
          "base_uri": "https://localhost:8080/",
          "height": 377
        },
        "id": "JKfju6SxiLmr",
        "outputId": "9ed2449e-d5f7-4bfa-f559-06e0d1725469"
      },
      "outputs": [
        {
          "data": {
            "text/html": [
              "\n",
              "            <style>\n",
              "                .geemap-dark {\n",
              "                    --jp-widgets-color: white;\n",
              "                    --jp-widgets-label-color: white;\n",
              "                    --jp-ui-font-color1: white;\n",
              "                    --jp-layout-color2: #454545;\n",
              "                    background-color: #383838;\n",
              "                }\n",
              "\n",
              "                .geemap-dark .jupyter-button {\n",
              "                    --jp-layout-color3: #383838;\n",
              "                }\n",
              "\n",
              "                .geemap-colab {\n",
              "                    background-color: var(--colab-primary-surface-color, white);\n",
              "                }\n",
              "\n",
              "                .geemap-colab .jupyter-button {\n",
              "                    --jp-layout-color3: var(--colab-primary-surface-color, white);\n",
              "                }\n",
              "            </style>\n",
              "            "
            ],
            "text/plain": [
              "<IPython.core.display.HTML object>"
            ]
          },
          "metadata": {},
          "output_type": "display_data"
        },
        {
          "data": {
            "image/png": "[encoded data removed]",
            "text/plain": [
              "<Figure size 1500x500 with 4 Axes>"
            ]
          },
          "metadata": {},
          "output_type": "display_data"
        }
      ],
      "source": [
        "# prompt: i want to visualize the first three channels of my input, which is in the rgb bands. i also want to visualize the fourth, which is a single band, help me do this with im subplots\n",
        "\n",
        "import matplotlib.pyplot as plt\n",
        "\n",
        "# Assuming 'inp' is your input data with shape (height, width, 12)\n",
        "# and the first three channels are RGB, and the fourth is a single band.\n",
        "\n",
        "# Extract RGB channels\n",
        "rgb_image = inp[:, :, :3]\n",
        "\n",
        "# Extract the fourth channel (single band)\n",
        "band4_image = inp[:, :, 3]\n",
        "year1_count = inp[:, :, 4][0][0]\n",
        "band5_image = inp[:, :, 5]\n",
        "\n",
        "# Create subplots\n",
        "fig, axes = plt.subplots(1, 4, figsize=(15, 5))  # 1 row, 4 columns\n",
        "\n",
        "# Display RGB image\n",
        "axes[0].imshow(rgb_image * 3)\n",
        "axes[0].set_title(\"RGB Image\")\n",
        "\n",
        "# Display individual RGB channels\n",
        "axes[1].imshow(rgb_image[:, :, 0], cmap='gray')\n",
        "axes[1].set_title(\"Red Channel\")\n",
        "axes[2].imshow(rgb_image[:, :, 1], cmap='gray')\n",
        "axes[2].set_title(\"Green Channel\")\n",
        "axes[3].imshow(rgb_image[:, :, 2], cmap='gray')\n",
        "axes[3].set_title(\"Blue Channel\")\n",
        "\n",
        "plt.tight_layout()  # Adjust layout to prevent overlapping titles\n",
        "plt.show()\n"
      ]
    },
    {
      "cell_type": "code",
      "execution_count": null,
      "metadata": {
        "colab": {
          "base_uri": "https://localhost:8080/",
          "height": 486
        },
        "id": "oreFWLHIlZ8T",
        "outputId": "2c03cb55-bd2a-4e68-9637-516878112db8"
      },
      "outputs": [
        {
          "data": {
            "text/html": [
              "\n",
              "            <style>\n",
              "                .geemap-dark {\n",
              "                    --jp-widgets-color: white;\n",
              "                    --jp-widgets-label-color: white;\n",
              "                    --jp-ui-font-color1: white;\n",
              "                    --jp-layout-color2: #454545;\n",
              "                    background-color: #383838;\n",
              "                }\n",
              "\n",
              "                .geemap-dark .jupyter-button {\n",
              "                    --jp-layout-color3: #383838;\n",
              "                }\n",
              "\n",
              "                .geemap-colab {\n",
              "                    background-color: var(--colab-primary-surface-color, white);\n",
              "                }\n",
              "\n",
              "                .geemap-colab .jupyter-button {\n",
              "                    --jp-layout-color3: var(--colab-primary-surface-color, white);\n",
              "                }\n",
              "            </style>\n",
              "            "
            ],
            "text/plain": [
              "<IPython.core.display.HTML object>"
            ]
          },
          "metadata": {},
          "output_type": "display_data"
        },
        {
          "data": {
            "text/plain": [
              "Text(0.5, 1.0, 'year - 3')"
            ]
          },
          "execution_count": 67,
          "metadata": {},
          "output_type": "execute_result"
        },
        {
          "data": {
            "image/png": "[encoded data removed]",
            "text/plain": [
              "<Figure size 1500x500 with 2 Axes>"
            ]
          },
          "metadata": {},
          "output_type": "display_data"
        }
      ],
      "source": [
        "# Create subplots\n",
        "fig, axes = plt.subplots(1, 2, figsize=(15, 5))  # 1 row, 4 columns\n",
        "\n",
        "#Display the fourth band\n",
        "axes[0].imshow(band4_image)  # Use a grayscale colormap\n",
        "axes[0].set_title(\"year - 2\")\n",
        "#display the fifth band\n",
        "axes[1].imshow(band5_image)  # Use a grayscale colormap\n",
        "axes[1].set_title(\"year - 3\")"
      ]
    },
    {
      "cell_type": "code",
      "execution_count": null,
      "metadata": {
        "id": "zVUsN5oMtoSu"
      },
      "outputs": [],
      "source": []
    }
  ],
  "metadata": {
    "colab": {
      "provenance": []
    },
    "kernelspec": {
      "display_name": "Python 3",
      "name": "python3"
    },
    "language_info": {
      "name": "python"
    },
    "widgets": {
      "application/vnd.jupyter.widget-state+json": {
        "209d3ed471ca4102a5cb2ee7fbc0da20": {
          "model_module": "@jupyter-widgets/controls",
          "model_name": "HBoxModel",
          "model_module_version": "1.5.0",
          "state": {
            "_dom_classes": [],
            "_model_module": "@jupyter-widgets/controls",
            "_model_module_version": "1.5.0",
            "_model_name": "HBoxModel",
            "_view_count": null,
            "_view_module": "@jupyter-widgets/controls",
            "_view_module_version": "1.5.0",
            "_view_name": "HBoxView",
            "box_style": "",
            "children": [
              "IPY_MODEL_821a70439639421ab4c886f3af0333af",
              "IPY_MODEL_823e90d796cb4fd4aabe686f5ebb0db3",
              "IPY_MODEL_072a489d13c64be4859f4d5e27d2cd0f"
            ],
            "layout": "IPY_MODEL_4c298a99247d4190928a5e705a5b79ee"
          }
        },
        "821a70439639421ab4c886f3af0333af": {
          "model_module": "@jupyter-widgets/controls",
          "model_name": "HTMLModel",
          "model_module_version": "1.5.0",
          "state": {
            "_dom_classes": [],
            "_model_module": "@jupyter-widgets/controls",
            "_model_module_version": "1.5.0",
            "_model_name": "HTMLModel",
            "_view_count": null,
            "_view_module": "@jupyter-widgets/controls",
            "_view_module_version": "1.5.0",
            "_view_name": "HTMLView",
            "description": "",
            "description_tooltip": null,
            "layout": "IPY_MODEL_69a75eae53634763a79654f85fd9f3ce",
            "placeholder": "​",
            "style": "IPY_MODEL_85e3c80c59084305a5348247f35a90ad",
            "value": "model.safetensors: 100%"
          }
        },
        "823e90d796cb4fd4aabe686f5ebb0db3": {
          "model_module": "@jupyter-widgets/controls",
          "model_name": "FloatProgressModel",
          "model_module_version": "1.5.0",
          "state": {
            "_dom_classes": [],
            "_model_module": "@jupyter-widgets/controls",
            "_model_module_version": "1.5.0",
            "_model_name": "FloatProgressModel",
            "_view_count": null,
            "_view_module": "@jupyter-widgets/controls",
            "_view_module_version": "1.5.0",
            "_view_name": "ProgressView",
            "bar_style": "success",
            "description": "",
            "description_tooltip": null,
            "layout": "IPY_MODEL_eb47bf7b7fb1485aa0f6f04693a891f1",
            "max": 94394732,
            "min": 0,
            "orientation": "horizontal",
            "style": "IPY_MODEL_c0234a7391154008bec6230d97480910",
            "value": 94394732
          }
        },
        "072a489d13c64be4859f4d5e27d2cd0f": {
          "model_module": "@jupyter-widgets/controls",
          "model_name": "HTMLModel",
          "model_module_version": "1.5.0",
          "state": {
            "_dom_classes": [],
            "_model_module": "@jupyter-widgets/controls",
            "_model_module_version": "1.5.0",
            "_model_name": "HTMLModel",
            "_view_count": null,
            "_view_module": "@jupyter-widgets/controls",
            "_view_module_version": "1.5.0",
            "_view_name": "HTMLView",
            "description": "",
            "description_tooltip": null,
            "layout": "IPY_MODEL_d54ae3c88bf2425a9396d38f7d865c7a",
            "placeholder": "​",
            "style": "IPY_MODEL_d06dfbe5a61346ed9efdbf9b2b0981f1",
            "value": " 94.4M/94.4M [00:01&lt;00:00, 75.3MB/s]"
          }
        },
        "4c298a99247d4190928a5e705a5b79ee": {
          "model_module": "@jupyter-widgets/base",
          "model_name": "LayoutModel",
          "model_module_version": "1.2.0",
          "state": {
            "_model_module": "@jupyter-widgets/base",
            "_model_module_version": "1.2.0",
            "_model_name": "LayoutModel",
            "_view_count": null,
            "_view_module": "@jupyter-widgets/base",
            "_view_module_version": "1.2.0",
            "_view_name": "LayoutView",
            "align_content": null,
            "align_items": null,
            "align_self": null,
            "border": null,
            "bottom": null,
            "display": null,
            "flex": null,
            "flex_flow": null,
            "grid_area": null,
            "grid_auto_columns": null,
            "grid_auto_flow": null,
            "grid_auto_rows": null,
            "grid_column": null,
            "grid_gap": null,
            "grid_row": null,
            "grid_template_areas": null,
            "grid_template_columns": null,
            "grid_template_rows": null,
            "height": null,
            "justify_content": null,
            "justify_items": null,
            "left": null,
            "margin": null,
            "max_height": null,
            "max_width": null,
            "min_height": null,
            "min_width": null,
            "object_fit": null,
            "object_position": null,
            "order": null,
            "overflow": null,
            "overflow_x": null,
            "overflow_y": null,
            "padding": null,
            "right": null,
            "top": null,
            "visibility": null,
            "width": null
          }
        },
        "69a75eae53634763a79654f85fd9f3ce": {
          "model_module": "@jupyter-widgets/base",
          "model_name": "LayoutModel",
          "model_module_version": "1.2.0",
          "state": {
            "_model_module": "@jupyter-widgets/base",
            "_model_module_version": "1.2.0",
            "_model_name": "LayoutModel",
            "_view_count": null,
            "_view_module": "@jupyter-widgets/base",
            "_view_module_version": "1.2.0",
            "_view_name": "LayoutView",
            "align_content": null,
            "align_items": null,
            "align_self": null,
            "border": null,
            "bottom": null,
            "display": null,
            "flex": null,
            "flex_flow": null,
            "grid_area": null,
            "grid_auto_columns": null,
            "grid_auto_flow": null,
            "grid_auto_rows": null,
            "grid_column": null,
            "grid_gap": null,
            "grid_row": null,
            "grid_template_areas": null,
            "grid_template_columns": null,
            "grid_template_rows": null,
            "height": null,
            "justify_content": null,
            "justify_items": null,
            "left": null,
            "margin": null,
            "max_height": null,
            "max_width": null,
            "min_height": null,
            "min_width": null,
            "object_fit": null,
            "object_position": null,
            "order": null,
            "overflow": null,
            "overflow_x": null,
            "overflow_y": null,
            "padding": null,
            "right": null,
            "top": null,
            "visibility": null,
            "width": null
          }
        },
        "85e3c80c59084305a5348247f35a90ad": {
          "model_module": "@jupyter-widgets/controls",
          "model_name": "DescriptionStyleModel",
          "model_module_version": "1.5.0",
          "state": {
            "_model_module": "@jupyter-widgets/controls",
            "_model_module_version": "1.5.0",
            "_model_name": "DescriptionStyleModel",
            "_view_count": null,
            "_view_module": "@jupyter-widgets/base",
            "_view_module_version": "1.2.0",
            "_view_name": "StyleView",
            "description_width": ""
          }
        },
        "eb47bf7b7fb1485aa0f6f04693a891f1": {
          "model_module": "@jupyter-widgets/base",
          "model_name": "LayoutModel",
          "model_module_version": "1.2.0",
          "state": {
            "_model_module": "@jupyter-widgets/base",
            "_model_module_version": "1.2.0",
            "_model_name": "LayoutModel",
            "_view_count": null,
            "_view_module": "@jupyter-widgets/base",
            "_view_module_version": "1.2.0",
            "_view_name": "LayoutView",
            "align_content": null,
            "align_items": null,
            "align_self": null,
            "border": null,
            "bottom": null,
            "display": null,
            "flex": null,
            "flex_flow": null,
            "grid_area": null,
            "grid_auto_columns": null,
            "grid_auto_flow": null,
            "grid_auto_rows": null,
            "grid_column": null,
            "grid_gap": null,
            "grid_row": null,
            "grid_template_areas": null,
            "grid_template_columns": null,
            "grid_template_rows": null,
            "height": null,
            "justify_content": null,
            "justify_items": null,
            "left": null,
            "margin": null,
            "max_height": null,
            "max_width": null,
            "min_height": null,
            "min_width": null,
            "object_fit": null,
            "object_position": null,
            "order": null,
            "overflow": null,
            "overflow_x": null,
            "overflow_y": null,
            "padding": null,
            "right": null,
            "top": null,
            "visibility": null,
            "width": null
          }
        },
        "c0234a7391154008bec6230d97480910": {
          "model_module": "@jupyter-widgets/controls",
          "model_name": "ProgressStyleModel",
          "model_module_version": "1.5.0",
          "state": {
            "_model_module": "@jupyter-widgets/controls",
            "_model_module_version": "1.5.0",
            "_model_name": "ProgressStyleModel",
            "_view_count": null,
            "_view_module": "@jupyter-widgets/base",
            "_view_module_version": "1.2.0",
            "_view_name": "StyleView",
            "bar_color": null,
            "description_width": ""
          }
        },
        "d54ae3c88bf2425a9396d38f7d865c7a": {
          "model_module": "@jupyter-widgets/base",
          "model_name": "LayoutModel",
          "model_module_version": "1.2.0",
          "state": {
            "_model_module": "@jupyter-widgets/base",
            "_model_module_version": "1.2.0",
            "_model_name": "LayoutModel",
            "_view_count": null,
            "_view_module": "@jupyter-widgets/base",
            "_view_module_version": "1.2.0",
            "_view_name": "LayoutView",
            "align_content": null,
            "align_items": null,
            "align_self": null,
            "border": null,
            "bottom": null,
            "display": null,
            "flex": null,
            "flex_flow": null,
            "grid_area": null,
            "grid_auto_columns": null,
            "grid_auto_flow": null,
            "grid_auto_rows": null,
            "grid_column": null,
            "grid_gap": null,
            "grid_row": null,
            "grid_template_areas": null,
            "grid_template_columns": null,
            "grid_template_rows": null,
            "height": null,
            "justify_content": null,
            "justify_items": null,
            "left": null,
            "margin": null,
            "max_height": null,
            "max_width": null,
            "min_height": null,
            "min_width": null,
            "object_fit": null,
            "object_position": null,
            "order": null,
            "overflow": null,
            "overflow_x": null,
            "overflow_y": null,
            "padding": null,
            "right": null,
            "top": null,
            "visibility": null,
            "width": null
          }
        },
        "d06dfbe5a61346ed9efdbf9b2b0981f1": {
          "model_module": "@jupyter-widgets/controls",
          "model_name": "DescriptionStyleModel",
          "model_module_version": "1.5.0",
          "state": {
            "_model_module": "@jupyter-widgets/controls",
            "_model_module_version": "1.5.0",
            "_model_name": "DescriptionStyleModel",
            "_view_count": null,
            "_view_module": "@jupyter-widgets/base",
            "_view_module_version": "1.2.0",
            "_view_name": "StyleView",
            "description_width": ""
          }
        }
      }
    }
  },
  "nbformat": 4,
  "nbformat_minor": 0
}