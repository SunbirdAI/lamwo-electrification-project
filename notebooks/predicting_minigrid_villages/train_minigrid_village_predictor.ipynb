version https://git-lfs.github.com/spec/v1
oid sha256:d71492d65d0ccaac1f7fbd5831ae6bd442760a6470d0686306be57e45d58c9cf
size 246650
